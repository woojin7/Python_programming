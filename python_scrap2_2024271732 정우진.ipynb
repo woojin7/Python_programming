{
 "cells": [
  {
   "cell_type": "markdown",
   "id": "bc641b44",
   "metadata": {
    "id": "bc641b44"
   },
   "source": [
    "# 02-2 스크래핑 사용하기"
   ]
  },
  {
   "cell_type": "markdown",
   "id": "5ea268e1",
   "metadata": {
    "id": "5ea268e1"
   },
   "source": [
    "<table class=\"tfo-notebook-buttons\" align=\"left\">\n",
    "  <td>\n",
    "    <a target=\"_blank\" href=\"https://nbviewer.jupyter.org/github/rickiepark/hg-da/blob/main/02-2.ipynb\"><img src=\"https://jupyter.org/assets/share.png\" width=\"61\" />주피터 노트북 뷰어로 보기</a>\n",
    "  </td>\n",
    "  <td>\n",
    "    <a target=\"_blank\" href=\"https://colab.research.google.com/github/rickiepark/hg-da/blob/main/02-2.ipynb\"><img src=\"https://www.tensorflow.org/images/colab_logo_32px.png\" />구글 코랩(Colab)에서 실행하기</a>\n",
    "  </td>\n",
    "</table>"
   ]
  },
  {
   "cell_type": "markdown",
   "id": "792f44fb",
   "metadata": {
    "id": "792f44fb"
   },
   "source": [
    "## 검색 결과 페이지 가져오기"
   ]
  },
  {
   "cell_type": "code",
   "execution_count": 1,
   "id": "0c27f09c",
   "metadata": {
    "colab": {
     "base_uri": "https://localhost:8080/",
     "height": 107
    },
    "id": "0c27f09c",
    "outputId": "51f862c6-1db5-4063-b507-4a56294d0f2c"
   },
   "outputs": [
    {
     "name": "stderr",
     "output_type": "stream",
     "text": [
      "Downloading...\n",
      "From: https://bit.ly/3q9SZix\n",
      "To: C:\\Users\\woojin\\Google 드라이브\\대학원\\1학기\\5. 파이썬프로그래밍\\hw\\20s_best_book.json\n",
      "100%|█████████████████████████████████████████████████████████████████████████████| 92.9k/92.9k [00:00<00:00, 1.18MB/s]\n"
     ]
    },
    {
     "data": {
      "text/plain": [
       "'20s_best_book.json'"
      ]
     },
     "execution_count": 1,
     "metadata": {},
     "output_type": "execute_result"
    }
   ],
   "source": [
    "import gdown\n",
    "\n",
    "gdown.download('https://bit.ly/3q9SZix', '20s_best_book.json', quiet=False)"
   ]
  },
  {
   "cell_type": "code",
   "execution_count": 2,
   "id": "6128a3fd",
   "metadata": {
    "colab": {
     "base_uri": "https://localhost:8080/",
     "height": 417
    },
    "id": "6128a3fd",
    "outputId": "89201b65-e66b-4af8-9af2-aad8cfe88706"
   },
   "outputs": [
    {
     "data": {
      "text/html": [
       "<div>\n",
       "<style scoped>\n",
       "    .dataframe tbody tr th:only-of-type {\n",
       "        vertical-align: middle;\n",
       "    }\n",
       "\n",
       "    .dataframe tbody tr th {\n",
       "        vertical-align: top;\n",
       "    }\n",
       "\n",
       "    .dataframe thead th {\n",
       "        text-align: right;\n",
       "    }\n",
       "</style>\n",
       "<table border=\"1\" class=\"dataframe\">\n",
       "  <thead>\n",
       "    <tr style=\"text-align: right;\">\n",
       "      <th></th>\n",
       "      <th>no</th>\n",
       "      <th>ranking</th>\n",
       "      <th>bookname</th>\n",
       "      <th>authors</th>\n",
       "      <th>publisher</th>\n",
       "      <th>publication_year</th>\n",
       "      <th>isbn13</th>\n",
       "      <th>addition_symbol</th>\n",
       "      <th>vol</th>\n",
       "      <th>class_no</th>\n",
       "      <th>class_nm</th>\n",
       "      <th>loan_count</th>\n",
       "      <th>bookImageURL</th>\n",
       "    </tr>\n",
       "  </thead>\n",
       "  <tbody>\n",
       "    <tr>\n",
       "      <th>0</th>\n",
       "      <td>1</td>\n",
       "      <td>1</td>\n",
       "      <td>우리가 빛의 속도로 갈 수 없다면 :김초엽 소설</td>\n",
       "      <td>지은이: 김초엽</td>\n",
       "      <td>허블</td>\n",
       "      <td>2019</td>\n",
       "      <td>9791190090018</td>\n",
       "      <td>03810</td>\n",
       "      <td></td>\n",
       "      <td>813.7</td>\n",
       "      <td>문학 &gt; 한국문학 &gt; 소설</td>\n",
       "      <td>461</td>\n",
       "      <td>https://image.aladin.co.kr/product/19359/16/co...</td>\n",
       "    </tr>\n",
       "    <tr>\n",
       "      <th>1</th>\n",
       "      <td>2</td>\n",
       "      <td>2</td>\n",
       "      <td>달러구트 꿈 백화점.이미예 장편소설</td>\n",
       "      <td>지은이: 이미예</td>\n",
       "      <td>팩토리나인</td>\n",
       "      <td>2020</td>\n",
       "      <td>9791165341909</td>\n",
       "      <td>03810</td>\n",
       "      <td></td>\n",
       "      <td>813.7</td>\n",
       "      <td>문학 &gt; 한국문학 &gt; 소설</td>\n",
       "      <td>387</td>\n",
       "      <td>https://image.aladin.co.kr/product/24512/70/co...</td>\n",
       "    </tr>\n",
       "    <tr>\n",
       "      <th>2</th>\n",
       "      <td>3</td>\n",
       "      <td>3</td>\n",
       "      <td>지구에서 한아뿐 :정세랑 장편소설</td>\n",
       "      <td>지은이: 정세랑</td>\n",
       "      <td>난다</td>\n",
       "      <td>2019</td>\n",
       "      <td>9791188862290</td>\n",
       "      <td>03810</td>\n",
       "      <td></td>\n",
       "      <td>813.7</td>\n",
       "      <td>문학 &gt; 한국문학 &gt; 소설</td>\n",
       "      <td>383</td>\n",
       "      <td>https://image.aladin.co.kr/product/19804/82/co...</td>\n",
       "    </tr>\n",
       "    <tr>\n",
       "      <th>3</th>\n",
       "      <td>4</td>\n",
       "      <td>4</td>\n",
       "      <td>시선으로부터, :정세랑 장편소설</td>\n",
       "      <td>지은이: 정세랑</td>\n",
       "      <td>문학동네</td>\n",
       "      <td>2020</td>\n",
       "      <td>9788954672214</td>\n",
       "      <td>03810</td>\n",
       "      <td></td>\n",
       "      <td>813.7</td>\n",
       "      <td>문학 &gt; 한국문학 &gt; 소설</td>\n",
       "      <td>370</td>\n",
       "      <td>https://image.aladin.co.kr/product/24131/37/co...</td>\n",
       "    </tr>\n",
       "    <tr>\n",
       "      <th>4</th>\n",
       "      <td>5</td>\n",
       "      <td>5</td>\n",
       "      <td>아몬드 :손원평 장편소설</td>\n",
       "      <td>지은이: 손원평</td>\n",
       "      <td>창비</td>\n",
       "      <td>2017</td>\n",
       "      <td>9788936434267</td>\n",
       "      <td>03810</td>\n",
       "      <td></td>\n",
       "      <td>813.7</td>\n",
       "      <td>문학 &gt; 한국문학 &gt; 소설</td>\n",
       "      <td>365</td>\n",
       "      <td>http://image.aladin.co.kr/product/16839/4/cove...</td>\n",
       "    </tr>\n",
       "  </tbody>\n",
       "</table>\n",
       "</div>"
      ],
      "text/plain": [
       "   no  ranking                     bookname   authors publisher  \\\n",
       "0   1        1  우리가 빛의 속도로 갈 수 없다면 :김초엽 소설   지은이: 김초엽        허블   \n",
       "1   2        2         달러구트 꿈 백화점.이미예 장편소설   지은이: 이미예     팩토리나인   \n",
       "2   3        3          지구에서 한아뿐 :정세랑 장편소설   지은이: 정세랑        난다   \n",
       "3   4        4           시선으로부터, :정세랑 장편소설   지은이: 정세랑      문학동네   \n",
       "4   5        5               아몬드 :손원평 장편소설   지은이: 손원평        창비   \n",
       "\n",
       "  publication_year         isbn13 addition_symbol vol  class_no  \\\n",
       "0             2019  9791190090018           03810         813.7   \n",
       "1             2020  9791165341909           03810         813.7   \n",
       "2             2019  9791188862290           03810         813.7   \n",
       "3             2020  9788954672214           03810         813.7   \n",
       "4             2017  9788936434267           03810         813.7   \n",
       "\n",
       "         class_nm  loan_count  \\\n",
       "0  문학 > 한국문학 > 소설         461   \n",
       "1  문학 > 한국문학 > 소설         387   \n",
       "2  문학 > 한국문학 > 소설         383   \n",
       "3  문학 > 한국문학 > 소설         370   \n",
       "4  문학 > 한국문학 > 소설         365   \n",
       "\n",
       "                                        bookImageURL  \n",
       "0  https://image.aladin.co.kr/product/19359/16/co...  \n",
       "1  https://image.aladin.co.kr/product/24512/70/co...  \n",
       "2  https://image.aladin.co.kr/product/19804/82/co...  \n",
       "3  https://image.aladin.co.kr/product/24131/37/co...  \n",
       "4  http://image.aladin.co.kr/product/16839/4/cove...  "
      ]
     },
     "execution_count": 2,
     "metadata": {},
     "output_type": "execute_result"
    }
   ],
   "source": [
    "import pandas as pd\n",
    "\n",
    "books_df = pd.read_json('20s_best_book.json')\n",
    "books_df.head()"
   ]
  },
  {
   "cell_type": "code",
   "execution_count": 3,
   "id": "2c3b1962",
   "metadata": {
    "colab": {
     "base_uri": "https://localhost:8080/",
     "height": 206
    },
    "id": "2c3b1962",
    "outputId": "3a8da6a5-3968-42fc-95ff-4ed83f0901a2"
   },
   "outputs": [
    {
     "data": {
      "text/html": [
       "<div>\n",
       "<style scoped>\n",
       "    .dataframe tbody tr th:only-of-type {\n",
       "        vertical-align: middle;\n",
       "    }\n",
       "\n",
       "    .dataframe tbody tr th {\n",
       "        vertical-align: top;\n",
       "    }\n",
       "\n",
       "    .dataframe thead th {\n",
       "        text-align: right;\n",
       "    }\n",
       "</style>\n",
       "<table border=\"1\" class=\"dataframe\">\n",
       "  <thead>\n",
       "    <tr style=\"text-align: right;\">\n",
       "      <th></th>\n",
       "      <th>no</th>\n",
       "      <th>ranking</th>\n",
       "      <th>bookname</th>\n",
       "      <th>authors</th>\n",
       "      <th>publisher</th>\n",
       "      <th>publication_year</th>\n",
       "      <th>isbn13</th>\n",
       "    </tr>\n",
       "  </thead>\n",
       "  <tbody>\n",
       "    <tr>\n",
       "      <th>0</th>\n",
       "      <td>1</td>\n",
       "      <td>1</td>\n",
       "      <td>우리가 빛의 속도로 갈 수 없다면 :김초엽 소설</td>\n",
       "      <td>지은이: 김초엽</td>\n",
       "      <td>허블</td>\n",
       "      <td>2019</td>\n",
       "      <td>9791190090018</td>\n",
       "    </tr>\n",
       "    <tr>\n",
       "      <th>1</th>\n",
       "      <td>2</td>\n",
       "      <td>2</td>\n",
       "      <td>달러구트 꿈 백화점.이미예 장편소설</td>\n",
       "      <td>지은이: 이미예</td>\n",
       "      <td>팩토리나인</td>\n",
       "      <td>2020</td>\n",
       "      <td>9791165341909</td>\n",
       "    </tr>\n",
       "    <tr>\n",
       "      <th>2</th>\n",
       "      <td>3</td>\n",
       "      <td>3</td>\n",
       "      <td>지구에서 한아뿐 :정세랑 장편소설</td>\n",
       "      <td>지은이: 정세랑</td>\n",
       "      <td>난다</td>\n",
       "      <td>2019</td>\n",
       "      <td>9791188862290</td>\n",
       "    </tr>\n",
       "    <tr>\n",
       "      <th>3</th>\n",
       "      <td>4</td>\n",
       "      <td>4</td>\n",
       "      <td>시선으로부터, :정세랑 장편소설</td>\n",
       "      <td>지은이: 정세랑</td>\n",
       "      <td>문학동네</td>\n",
       "      <td>2020</td>\n",
       "      <td>9788954672214</td>\n",
       "    </tr>\n",
       "    <tr>\n",
       "      <th>4</th>\n",
       "      <td>5</td>\n",
       "      <td>5</td>\n",
       "      <td>아몬드 :손원평 장편소설</td>\n",
       "      <td>지은이: 손원평</td>\n",
       "      <td>창비</td>\n",
       "      <td>2017</td>\n",
       "      <td>9788936434267</td>\n",
       "    </tr>\n",
       "  </tbody>\n",
       "</table>\n",
       "</div>"
      ],
      "text/plain": [
       "   no  ranking                     bookname   authors publisher  \\\n",
       "0   1        1  우리가 빛의 속도로 갈 수 없다면 :김초엽 소설   지은이: 김초엽        허블   \n",
       "1   2        2         달러구트 꿈 백화점.이미예 장편소설   지은이: 이미예     팩토리나인   \n",
       "2   3        3          지구에서 한아뿐 :정세랑 장편소설   지은이: 정세랑        난다   \n",
       "3   4        4           시선으로부터, :정세랑 장편소설   지은이: 정세랑      문학동네   \n",
       "4   5        5               아몬드 :손원평 장편소설   지은이: 손원평        창비   \n",
       "\n",
       "  publication_year         isbn13  \n",
       "0             2019  9791190090018  \n",
       "1             2020  9791165341909  \n",
       "2             2019  9791188862290  \n",
       "3             2020  9788954672214  \n",
       "4             2017  9788936434267  "
      ]
     },
     "execution_count": 3,
     "metadata": {},
     "output_type": "execute_result"
    }
   ],
   "source": [
    "books = books_df[['no','ranking','bookname','authors','publisher',\n",
    "                 'publication_year','isbn13']]\n",
    "books.head()"
   ]
  },
  {
   "cell_type": "code",
   "execution_count": 4,
   "id": "a670c59b",
   "metadata": {
    "colab": {
     "base_uri": "https://localhost:8080/",
     "height": 112
    },
    "id": "a670c59b",
    "outputId": "b3870170-65bc-423d-898a-9d0646fa46fa"
   },
   "outputs": [
    {
     "data": {
      "text/html": [
       "<div>\n",
       "<style scoped>\n",
       "    .dataframe tbody tr th:only-of-type {\n",
       "        vertical-align: middle;\n",
       "    }\n",
       "\n",
       "    .dataframe tbody tr th {\n",
       "        vertical-align: top;\n",
       "    }\n",
       "\n",
       "    .dataframe thead th {\n",
       "        text-align: right;\n",
       "    }\n",
       "</style>\n",
       "<table border=\"1\" class=\"dataframe\">\n",
       "  <thead>\n",
       "    <tr style=\"text-align: right;\">\n",
       "      <th></th>\n",
       "      <th>bookname</th>\n",
       "      <th>authors</th>\n",
       "    </tr>\n",
       "  </thead>\n",
       "  <tbody>\n",
       "    <tr>\n",
       "      <th>0</th>\n",
       "      <td>우리가 빛의 속도로 갈 수 없다면 :김초엽 소설</td>\n",
       "      <td>지은이: 김초엽</td>\n",
       "    </tr>\n",
       "    <tr>\n",
       "      <th>1</th>\n",
       "      <td>달러구트 꿈 백화점.이미예 장편소설</td>\n",
       "      <td>지은이: 이미예</td>\n",
       "    </tr>\n",
       "  </tbody>\n",
       "</table>\n",
       "</div>"
      ],
      "text/plain": [
       "                      bookname   authors\n",
       "0  우리가 빛의 속도로 갈 수 없다면 :김초엽 소설   지은이: 김초엽\n",
       "1         달러구트 꿈 백화점.이미예 장편소설   지은이: 이미예"
      ]
     },
     "execution_count": 4,
     "metadata": {},
     "output_type": "execute_result"
    }
   ],
   "source": [
    "books_df.loc[[0,1], ['bookname','authors']]"
   ]
  },
  {
   "cell_type": "code",
   "execution_count": 5,
   "id": "d64d4f85",
   "metadata": {
    "colab": {
     "base_uri": "https://localhost:8080/",
     "height": 112
    },
    "id": "d64d4f85",
    "outputId": "27290045-32a0-44eb-f821-eece636c6d18"
   },
   "outputs": [
    {
     "data": {
      "text/html": [
       "<div>\n",
       "<style scoped>\n",
       "    .dataframe tbody tr th:only-of-type {\n",
       "        vertical-align: middle;\n",
       "    }\n",
       "\n",
       "    .dataframe tbody tr th {\n",
       "        vertical-align: top;\n",
       "    }\n",
       "\n",
       "    .dataframe thead th {\n",
       "        text-align: right;\n",
       "    }\n",
       "</style>\n",
       "<table border=\"1\" class=\"dataframe\">\n",
       "  <thead>\n",
       "    <tr style=\"text-align: right;\">\n",
       "      <th></th>\n",
       "      <th>bookname</th>\n",
       "      <th>authors</th>\n",
       "    </tr>\n",
       "  </thead>\n",
       "  <tbody>\n",
       "    <tr>\n",
       "      <th>0</th>\n",
       "      <td>우리가 빛의 속도로 갈 수 없다면 :김초엽 소설</td>\n",
       "      <td>지은이: 김초엽</td>\n",
       "    </tr>\n",
       "    <tr>\n",
       "      <th>1</th>\n",
       "      <td>달러구트 꿈 백화점.이미예 장편소설</td>\n",
       "      <td>지은이: 이미예</td>\n",
       "    </tr>\n",
       "  </tbody>\n",
       "</table>\n",
       "</div>"
      ],
      "text/plain": [
       "                      bookname   authors\n",
       "0  우리가 빛의 속도로 갈 수 없다면 :김초엽 소설   지은이: 김초엽\n",
       "1         달러구트 꿈 백화점.이미예 장편소설   지은이: 이미예"
      ]
     },
     "execution_count": 5,
     "metadata": {},
     "output_type": "execute_result"
    }
   ],
   "source": [
    "books_df.loc[0:1, 'bookname':'authors']"
   ]
  },
  {
   "cell_type": "code",
   "execution_count": 6,
   "id": "b9bcb956",
   "metadata": {
    "colab": {
     "base_uri": "https://localhost:8080/",
     "height": 206
    },
    "id": "b9bcb956",
    "outputId": "174cdb65-354e-48c3-e99d-cd694897af80"
   },
   "outputs": [
    {
     "data": {
      "text/html": [
       "<div>\n",
       "<style scoped>\n",
       "    .dataframe tbody tr th:only-of-type {\n",
       "        vertical-align: middle;\n",
       "    }\n",
       "\n",
       "    .dataframe tbody tr th {\n",
       "        vertical-align: top;\n",
       "    }\n",
       "\n",
       "    .dataframe thead th {\n",
       "        text-align: right;\n",
       "    }\n",
       "</style>\n",
       "<table border=\"1\" class=\"dataframe\">\n",
       "  <thead>\n",
       "    <tr style=\"text-align: right;\">\n",
       "      <th></th>\n",
       "      <th>no</th>\n",
       "      <th>ranking</th>\n",
       "      <th>bookname</th>\n",
       "      <th>authors</th>\n",
       "      <th>publisher</th>\n",
       "      <th>publication_year</th>\n",
       "      <th>isbn13</th>\n",
       "    </tr>\n",
       "  </thead>\n",
       "  <tbody>\n",
       "    <tr>\n",
       "      <th>0</th>\n",
       "      <td>1</td>\n",
       "      <td>1</td>\n",
       "      <td>우리가 빛의 속도로 갈 수 없다면 :김초엽 소설</td>\n",
       "      <td>지은이: 김초엽</td>\n",
       "      <td>허블</td>\n",
       "      <td>2019</td>\n",
       "      <td>9791190090018</td>\n",
       "    </tr>\n",
       "    <tr>\n",
       "      <th>1</th>\n",
       "      <td>2</td>\n",
       "      <td>2</td>\n",
       "      <td>달러구트 꿈 백화점.이미예 장편소설</td>\n",
       "      <td>지은이: 이미예</td>\n",
       "      <td>팩토리나인</td>\n",
       "      <td>2020</td>\n",
       "      <td>9791165341909</td>\n",
       "    </tr>\n",
       "    <tr>\n",
       "      <th>2</th>\n",
       "      <td>3</td>\n",
       "      <td>3</td>\n",
       "      <td>지구에서 한아뿐 :정세랑 장편소설</td>\n",
       "      <td>지은이: 정세랑</td>\n",
       "      <td>난다</td>\n",
       "      <td>2019</td>\n",
       "      <td>9791188862290</td>\n",
       "    </tr>\n",
       "    <tr>\n",
       "      <th>3</th>\n",
       "      <td>4</td>\n",
       "      <td>4</td>\n",
       "      <td>시선으로부터, :정세랑 장편소설</td>\n",
       "      <td>지은이: 정세랑</td>\n",
       "      <td>문학동네</td>\n",
       "      <td>2020</td>\n",
       "      <td>9788954672214</td>\n",
       "    </tr>\n",
       "    <tr>\n",
       "      <th>4</th>\n",
       "      <td>5</td>\n",
       "      <td>5</td>\n",
       "      <td>아몬드 :손원평 장편소설</td>\n",
       "      <td>지은이: 손원평</td>\n",
       "      <td>창비</td>\n",
       "      <td>2017</td>\n",
       "      <td>9788936434267</td>\n",
       "    </tr>\n",
       "  </tbody>\n",
       "</table>\n",
       "</div>"
      ],
      "text/plain": [
       "   no  ranking                     bookname   authors publisher  \\\n",
       "0   1        1  우리가 빛의 속도로 갈 수 없다면 :김초엽 소설   지은이: 김초엽        허블   \n",
       "1   2        2         달러구트 꿈 백화점.이미예 장편소설   지은이: 이미예     팩토리나인   \n",
       "2   3        3          지구에서 한아뿐 :정세랑 장편소설   지은이: 정세랑        난다   \n",
       "3   4        4           시선으로부터, :정세랑 장편소설   지은이: 정세랑      문학동네   \n",
       "4   5        5               아몬드 :손원평 장편소설   지은이: 손원평        창비   \n",
       "\n",
       "  publication_year         isbn13  \n",
       "0             2019  9791190090018  \n",
       "1             2020  9791165341909  \n",
       "2             2019  9791188862290  \n",
       "3             2020  9788954672214  \n",
       "4             2017  9788936434267  "
      ]
     },
     "execution_count": 6,
     "metadata": {},
     "output_type": "execute_result"
    }
   ],
   "source": [
    "books = books_df.loc[:, 'no':'isbn13']\n",
    "books.head()"
   ]
  },
  {
   "cell_type": "code",
   "execution_count": 7,
   "id": "be0dc610",
   "metadata": {
    "colab": {
     "base_uri": "https://localhost:8080/",
     "height": 206
    },
    "id": "be0dc610",
    "outputId": "7766b65d-eb91-42a4-d026-487ffee78520"
   },
   "outputs": [
    {
     "data": {
      "text/html": [
       "<div>\n",
       "<style scoped>\n",
       "    .dataframe tbody tr th:only-of-type {\n",
       "        vertical-align: middle;\n",
       "    }\n",
       "\n",
       "    .dataframe tbody tr th {\n",
       "        vertical-align: top;\n",
       "    }\n",
       "\n",
       "    .dataframe thead th {\n",
       "        text-align: right;\n",
       "    }\n",
       "</style>\n",
       "<table border=\"1\" class=\"dataframe\">\n",
       "  <thead>\n",
       "    <tr style=\"text-align: right;\">\n",
       "      <th></th>\n",
       "      <th>no</th>\n",
       "      <th>ranking</th>\n",
       "      <th>bookname</th>\n",
       "      <th>authors</th>\n",
       "      <th>publisher</th>\n",
       "      <th>publication_year</th>\n",
       "      <th>isbn13</th>\n",
       "    </tr>\n",
       "  </thead>\n",
       "  <tbody>\n",
       "    <tr>\n",
       "      <th>0</th>\n",
       "      <td>1</td>\n",
       "      <td>1</td>\n",
       "      <td>우리가 빛의 속도로 갈 수 없다면 :김초엽 소설</td>\n",
       "      <td>지은이: 김초엽</td>\n",
       "      <td>허블</td>\n",
       "      <td>2019</td>\n",
       "      <td>9791190090018</td>\n",
       "    </tr>\n",
       "    <tr>\n",
       "      <th>2</th>\n",
       "      <td>3</td>\n",
       "      <td>3</td>\n",
       "      <td>지구에서 한아뿐 :정세랑 장편소설</td>\n",
       "      <td>지은이: 정세랑</td>\n",
       "      <td>난다</td>\n",
       "      <td>2019</td>\n",
       "      <td>9791188862290</td>\n",
       "    </tr>\n",
       "    <tr>\n",
       "      <th>4</th>\n",
       "      <td>5</td>\n",
       "      <td>5</td>\n",
       "      <td>아몬드 :손원평 장편소설</td>\n",
       "      <td>지은이: 손원평</td>\n",
       "      <td>창비</td>\n",
       "      <td>2017</td>\n",
       "      <td>9788936434267</td>\n",
       "    </tr>\n",
       "    <tr>\n",
       "      <th>6</th>\n",
       "      <td>7</td>\n",
       "      <td>7</td>\n",
       "      <td>목소리를 드릴게요 :정세랑 소설집</td>\n",
       "      <td>지은이: 정세랑</td>\n",
       "      <td>아작</td>\n",
       "      <td>2020</td>\n",
       "      <td>9791165300005</td>\n",
       "    </tr>\n",
       "    <tr>\n",
       "      <th>8</th>\n",
       "      <td>9</td>\n",
       "      <td>9</td>\n",
       "      <td>선량한 차별주의자</td>\n",
       "      <td>김지혜 지음</td>\n",
       "      <td>창비</td>\n",
       "      <td>2019</td>\n",
       "      <td>9788936477196</td>\n",
       "    </tr>\n",
       "  </tbody>\n",
       "</table>\n",
       "</div>"
      ],
      "text/plain": [
       "   no  ranking                     bookname   authors publisher  \\\n",
       "0   1        1  우리가 빛의 속도로 갈 수 없다면 :김초엽 소설   지은이: 김초엽        허블   \n",
       "2   3        3          지구에서 한아뿐 :정세랑 장편소설   지은이: 정세랑        난다   \n",
       "4   5        5               아몬드 :손원평 장편소설   지은이: 손원평        창비   \n",
       "6   7        7          목소리를 드릴게요 :정세랑 소설집   지은이: 정세랑        아작   \n",
       "8   9        9                   선량한 차별주의자     김지혜 지음        창비   \n",
       "\n",
       "  publication_year         isbn13  \n",
       "0             2019  9791190090018  \n",
       "2             2019  9791188862290  \n",
       "4             2017  9788936434267  \n",
       "6             2020  9791165300005  \n",
       "8             2019  9788936477196  "
      ]
     },
     "execution_count": 7,
     "metadata": {},
     "output_type": "execute_result"
    }
   ],
   "source": [
    "books_df.loc[::2, 'no':'isbn13'].head()"
   ]
  },
  {
   "cell_type": "code",
   "execution_count": 8,
   "id": "OFcfa4Ubjn-x",
   "metadata": {
    "id": "OFcfa4Ubjn-x"
   },
   "outputs": [],
   "source": [
    "# DH_KEY_TOO_SMALL 에러가 발생하는 경우 다음 코드의 주석을 제거하고 실행하세요.\n",
    "# https://stackoverflow.com/questions/38015537/python-requests-exceptions-sslerror-dh-key-too-small\n",
    "# import requests\n",
    "\n",
    "# requests.packages.urllib3.util.ssl_.DEFAULT_CIPHERS += 'HIGH:!DH:!aNULL'\n",
    "# try:\n",
    "#     requests.packages.urllib3.contrib.pyopenssl.DEFAULT_SSL_CIPHER_LIST += 'HIGH:!DH:!aNULL'\n",
    "# except AttributeError:\n",
    "#     # no pyopenssl support used / needed / available\n",
    "#     pass"
   ]
  },
  {
   "cell_type": "code",
   "execution_count": 9,
   "id": "2Lf9nLeFz-jM",
   "metadata": {
    "id": "2Lf9nLeFz-jM"
   },
   "outputs": [],
   "source": [
    "import requests\n",
    "\n",
    "isbn = 9791190090018      # '우리가 빛의 속도로 갈 수 없다면'의 ISBN\n",
    "url = 'http://www.yes24.com/Product/Search?domain=BOOK&query={}'\n",
    "\n",
    "r = requests.get(url.format(isbn))"
   ]
  },
  {
   "cell_type": "code",
   "execution_count": 10,
   "id": "65f7a85b-e90b-49d6-b9e8-1b44a7d64825",
   "metadata": {},
   "outputs": [
    {
     "data": {
      "text/plain": [
       "'http://www.yes24.com/Product/Search?domain=BOOK&query=9791190090018'"
      ]
     },
     "execution_count": 10,
     "metadata": {},
     "output_type": "execute_result"
    }
   ],
   "source": [
    "isbn = 9791190090018      # '우리가 빛의 속도로 갈 수 없다면'의 ISBN\n",
    "url = 'http://www.yes24.com/Product/Search?domain=BOOK&query={}'\n",
    "\n",
    "url.format(isbn)"
   ]
  },
  {
   "cell_type": "code",
   "execution_count": 11,
   "id": "bd356750",
   "metadata": {
    "colab": {
     "base_uri": "https://localhost:8080/"
    },
    "id": "bd356750",
    "outputId": "bf85b8b0-ead6-43bd-b393-dfd6c35a667e"
   },
   "outputs": [],
   "source": [
    "#print(r.text)"
   ]
  },
  {
   "cell_type": "markdown",
   "id": "5cb0bca3",
   "metadata": {
    "id": "5cb0bca3"
   },
   "source": [
    "## 뷰티플수프"
   ]
  },
  {
   "cell_type": "code",
   "execution_count": 12,
   "id": "d4f1379a-2201-4fce-9fd4-fdf07c873a5e",
   "metadata": {},
   "outputs": [],
   "source": [
    "#!pip install bs4"
   ]
  },
  {
   "cell_type": "code",
   "execution_count": 13,
   "id": "077d748b",
   "metadata": {
    "id": "077d748b"
   },
   "outputs": [],
   "source": [
    "from bs4 import BeautifulSoup"
   ]
  },
  {
   "cell_type": "code",
   "execution_count": 14,
   "id": "579a0854",
   "metadata": {
    "id": "579a0854"
   },
   "outputs": [],
   "source": [
    "soup = BeautifulSoup(r.text, 'html.parser')"
   ]
  },
  {
   "cell_type": "code",
   "execution_count": 15,
   "id": "4de033c4",
   "metadata": {
    "id": "4de033c4"
   },
   "outputs": [],
   "source": [
    "prd_link = soup.find('a', attrs={'class':'gd_name'})"
   ]
  },
  {
   "cell_type": "code",
   "execution_count": 16,
   "id": "fdce6896",
   "metadata": {
    "colab": {
     "base_uri": "https://localhost:8080/"
    },
    "id": "fdce6896",
    "outputId": "a361a0b6-7de4-4929-b521-a7b8b76de3b3"
   },
   "outputs": [
    {
     "name": "stdout",
     "output_type": "stream",
     "text": [
      "<a class=\"gd_name\" href=\"/Product/Goods/74261416\" onclick=\"wiseLogV2('S', '101_005_003_001', ''); setGoodsClickExtraCodeHub('032', '9791190090018', '74261416', '0');\">[예스리커버] 우리가 빛의 속도로 갈 수 없다면</a>\n"
     ]
    }
   ],
   "source": [
    "print(prd_link)"
   ]
  },
  {
   "cell_type": "code",
   "execution_count": 17,
   "id": "As0QrzOR268K",
   "metadata": {
    "colab": {
     "base_uri": "https://localhost:8080/"
    },
    "id": "As0QrzOR268K",
    "outputId": "4e394ce9-1c21-4e87-b29e-74c25dc727f6"
   },
   "outputs": [
    {
     "name": "stdout",
     "output_type": "stream",
     "text": [
      "/Product/Goods/74261416\n"
     ]
    }
   ],
   "source": [
    "print(prd_link['href'])"
   ]
  },
  {
   "cell_type": "code",
   "execution_count": 18,
   "id": "wQo5yajw3f1_",
   "metadata": {
    "id": "wQo5yajw3f1_"
   },
   "outputs": [],
   "source": [
    "# '우리가 빛의 속도로 갈 수 없다면'의 상세 페이지 가져오기\n",
    "url = 'http://www.yes24.com'+prd_link['href']\n",
    "r = requests.get(url)"
   ]
  },
  {
   "cell_type": "code",
   "execution_count": 19,
   "id": "pfsAhma6c1I-",
   "metadata": {
    "colab": {
     "base_uri": "https://localhost:8080/"
    },
    "id": "pfsAhma6c1I-",
    "outputId": "ee8713d7-8ec0-48cf-b83a-413fc2d230f3"
   },
   "outputs": [],
   "source": [
    "#print(r.text)"
   ]
  },
  {
   "cell_type": "code",
   "execution_count": 20,
   "id": "27-HqVCH3wBP",
   "metadata": {
    "colab": {
     "base_uri": "https://localhost:8080/"
    },
    "id": "27-HqVCH3wBP",
    "outputId": "a80c2396-08b3-49bd-ba6f-06f096bc4f9d"
   },
   "outputs": [],
   "source": [
    "soup = BeautifulSoup(r.text, 'html.parser')\n",
    "prd_detail = soup.find('div', attrs={'id':'infoset_specific'})\n",
    "#print(prd_detail)"
   ]
  },
  {
   "cell_type": "code",
   "execution_count": 21,
   "id": "09213ca8",
   "metadata": {
    "colab": {
     "base_uri": "https://localhost:8080/"
    },
    "id": "09213ca8",
    "outputId": "4bf4330a-2f85-4386-f2e9-c912f5d83325",
    "scrolled": true
   },
   "outputs": [
    {
     "name": "stdout",
     "output_type": "stream",
     "text": [
      "[<tr>\n",
      "<th class=\"txt\" scope=\"row\">발행일</th>\n",
      "<td class=\"txt lastCol\">2019년 06월 24일</td>\n",
      "</tr>, <tr>\n",
      "<th class=\"txt\" scope=\"row\">쪽수, 무게, 크기</th>\n",
      "<td class=\"txt lastCol\">330쪽 | 496g | 130*198*30mm</td>\n",
      "</tr>, <tr>\n",
      "<th class=\"txt\" scope=\"row\">ISBN13</th>\n",
      "<td class=\"txt lastCol\">9791190090018</td>\n",
      "</tr>, <tr>\n",
      "<th class=\"txt\" scope=\"row\">ISBN10</th>\n",
      "<td class=\"txt lastCol\">1190090015</td>\n",
      "</tr>]\n"
     ]
    }
   ],
   "source": [
    "prd_tr_list = prd_detail.find_all('tr')\n",
    "print(prd_tr_list)"
   ]
  },
  {
   "cell_type": "code",
   "execution_count": 22,
   "id": "af4f8302-e4fc-4397-b87f-7e2f6e907e94",
   "metadata": {},
   "outputs": [
    {
     "data": {
      "text/plain": [
       "<tr>\n",
       "<th class=\"txt\" scope=\"row\">쪽수, 무게, 크기</th>\n",
       "<td class=\"txt lastCol\">330쪽 | 496g | 130*198*30mm</td>\n",
       "</tr>"
      ]
     },
     "execution_count": 22,
     "metadata": {},
     "output_type": "execute_result"
    }
   ],
   "source": [
    "prd_tr_list[1]"
   ]
  },
  {
   "cell_type": "code",
   "execution_count": 23,
   "id": "iAgtBQmV730Z",
   "metadata": {
    "id": "iAgtBQmV730Z"
   },
   "outputs": [],
   "source": [
    "for tr in prd_tr_list:\n",
    "    if tr.find('th').get_text() == '쪽수, 무게, 크기':\n",
    "        page_td = tr.find('td').get_text()\n",
    "        break"
   ]
  },
  {
   "cell_type": "code",
   "execution_count": 24,
   "id": "ecrTTdRm5R4m",
   "metadata": {
    "colab": {
     "base_uri": "https://localhost:8080/"
    },
    "id": "ecrTTdRm5R4m",
    "outputId": "3abf181d-a0fe-45ae-ddf9-72f710b1a9cd"
   },
   "outputs": [
    {
     "name": "stdout",
     "output_type": "stream",
     "text": [
      "330쪽 | 496g | 130*198*30mm\n"
     ]
    }
   ],
   "source": [
    "print(page_td)"
   ]
  },
  {
   "cell_type": "code",
   "execution_count": 25,
   "id": "36baba03",
   "metadata": {
    "colab": {
     "base_uri": "https://localhost:8080/"
    },
    "id": "36baba03",
    "outputId": "98b23171-2e79-4682-ca35-a8d5d13518d9"
   },
   "outputs": [
    {
     "name": "stdout",
     "output_type": "stream",
     "text": [
      "330쪽\n"
     ]
    }
   ],
   "source": [
    "print(page_td.split()[0])"
   ]
  },
  {
   "cell_type": "code",
   "execution_count": 26,
   "id": "a25f1d24-655d-473a-9934-a4b055189491",
   "metadata": {},
   "outputs": [
    {
     "name": "stdout",
     "output_type": "stream",
     "text": [
      "496g\n"
     ]
    }
   ],
   "source": [
    "print(page_td.split()[2])"
   ]
  },
  {
   "cell_type": "code",
   "execution_count": 27,
   "id": "86a99b52-99f3-4887-9d2d-d1117174ee52",
   "metadata": {},
   "outputs": [
    {
     "data": {
      "text/html": [
       "<div>\n",
       "<style scoped>\n",
       "    .dataframe tbody tr th:only-of-type {\n",
       "        vertical-align: middle;\n",
       "    }\n",
       "\n",
       "    .dataframe tbody tr th {\n",
       "        vertical-align: top;\n",
       "    }\n",
       "\n",
       "    .dataframe thead th {\n",
       "        text-align: right;\n",
       "    }\n",
       "</style>\n",
       "<table border=\"1\" class=\"dataframe\">\n",
       "  <thead>\n",
       "    <tr style=\"text-align: right;\">\n",
       "      <th></th>\n",
       "      <th>no</th>\n",
       "      <th>ranking</th>\n",
       "      <th>bookname</th>\n",
       "      <th>authors</th>\n",
       "      <th>publisher</th>\n",
       "      <th>publication_year</th>\n",
       "      <th>isbn13</th>\n",
       "    </tr>\n",
       "  </thead>\n",
       "  <tbody>\n",
       "    <tr>\n",
       "      <th>0</th>\n",
       "      <td>1</td>\n",
       "      <td>1</td>\n",
       "      <td>우리가 빛의 속도로 갈 수 없다면 :김초엽 소설</td>\n",
       "      <td>지은이: 김초엽</td>\n",
       "      <td>허블</td>\n",
       "      <td>2019</td>\n",
       "      <td>9791190090018</td>\n",
       "    </tr>\n",
       "    <tr>\n",
       "      <th>1</th>\n",
       "      <td>2</td>\n",
       "      <td>2</td>\n",
       "      <td>달러구트 꿈 백화점.이미예 장편소설</td>\n",
       "      <td>지은이: 이미예</td>\n",
       "      <td>팩토리나인</td>\n",
       "      <td>2020</td>\n",
       "      <td>9791165341909</td>\n",
       "    </tr>\n",
       "    <tr>\n",
       "      <th>2</th>\n",
       "      <td>3</td>\n",
       "      <td>3</td>\n",
       "      <td>지구에서 한아뿐 :정세랑 장편소설</td>\n",
       "      <td>지은이: 정세랑</td>\n",
       "      <td>난다</td>\n",
       "      <td>2019</td>\n",
       "      <td>9791188862290</td>\n",
       "    </tr>\n",
       "    <tr>\n",
       "      <th>3</th>\n",
       "      <td>4</td>\n",
       "      <td>4</td>\n",
       "      <td>시선으로부터, :정세랑 장편소설</td>\n",
       "      <td>지은이: 정세랑</td>\n",
       "      <td>문학동네</td>\n",
       "      <td>2020</td>\n",
       "      <td>9788954672214</td>\n",
       "    </tr>\n",
       "    <tr>\n",
       "      <th>4</th>\n",
       "      <td>5</td>\n",
       "      <td>5</td>\n",
       "      <td>아몬드 :손원평 장편소설</td>\n",
       "      <td>지은이: 손원평</td>\n",
       "      <td>창비</td>\n",
       "      <td>2017</td>\n",
       "      <td>9788936434267</td>\n",
       "    </tr>\n",
       "  </tbody>\n",
       "</table>\n",
       "</div>"
      ],
      "text/plain": [
       "   no  ranking                     bookname   authors publisher  \\\n",
       "0   1        1  우리가 빛의 속도로 갈 수 없다면 :김초엽 소설   지은이: 김초엽        허블   \n",
       "1   2        2         달러구트 꿈 백화점.이미예 장편소설   지은이: 이미예     팩토리나인   \n",
       "2   3        3          지구에서 한아뿐 :정세랑 장편소설   지은이: 정세랑        난다   \n",
       "3   4        4           시선으로부터, :정세랑 장편소설   지은이: 정세랑      문학동네   \n",
       "4   5        5               아몬드 :손원평 장편소설   지은이: 손원평        창비   \n",
       "\n",
       "  publication_year         isbn13  \n",
       "0             2019  9791190090018  \n",
       "1             2020  9791165341909  \n",
       "2             2019  9791188862290  \n",
       "3             2020  9788954672214  \n",
       "4             2017  9788936434267  "
      ]
     },
     "execution_count": 27,
     "metadata": {},
     "output_type": "execute_result"
    }
   ],
   "source": [
    "books = books_df[['no','ranking','bookname','authors','publisher',\n",
    "                 'publication_year','isbn13',]]\n",
    "books.head()"
   ]
  },
  {
   "cell_type": "markdown",
   "id": "34ba9a1c-646f-47eb-8337-761f3bf5970d",
   "metadata": {
    "id": "880d52a6"
   },
   "source": [
    "## 과제 (쪽수와 무게 추가)"
   ]
  },
  {
   "cell_type": "code",
   "execution_count": 28,
   "id": "d267046f",
   "metadata": {
    "id": "d267046f"
   },
   "outputs": [],
   "source": [
    "def get_page_cnt(isbn):\n",
    "    # Yes24 도서 검색 페이지 URL\n",
    "    url = 'http://www.yes24.com/Product/Search?domain=BOOK&query={}'\n",
    "    # URL에 ISBN을 넣어 HTML 가져옵니다.\n",
    "    r = requests.get(url.format(isbn))\n",
    "    soup = BeautifulSoup(r.text, 'html.parser')   # HTML 파싱\n",
    "    # 검색 결과에서 해당 도서를 선택합니다.\n",
    "    prd_info = soup.find('a', attrs={'class':'gd_name'})\n",
    "    if prd_info == None:\n",
    "        return ''\n",
    "    # 도서 상세 페이지를 가져옵니다.\n",
    "    url = 'http://www.yes24.com'+prd_info['href']\n",
    "    r = requests.get(url)\n",
    "    soup = BeautifulSoup(r.text, 'html.parser')\n",
    "    # 상품 상세정보 div를 선택합니다.\n",
    "    prd_detail = soup.find('div', attrs={'id':'infoset_specific'})\n",
    "    # 테이블에 있는 tr 태그를 가져옵니다.\n",
    "    prd_tr_list = prd_detail.find_all('tr')\n",
    "    # 쪽수가 들어 있는 th를 찾아 td에 담긴 값을 반환합니다.\n",
    "    for tr in prd_tr_list:\n",
    "        if tr.find('th').get_text() == '쪽수, 무게, 크기':\n",
    "            details = tr.find('td').get_text().split()\n",
    "            return details[0], details[2]\n",
    "    return '', ''"
   ]
  },
  {
   "cell_type": "code",
   "execution_count": 29,
   "id": "cd7c9941",
   "metadata": {
    "colab": {
     "base_uri": "https://localhost:8080/",
     "height": 36
    },
    "id": "cd7c9941",
    "outputId": "a9d7fb91-1d91-49bb-85ac-7aa766cfe210"
   },
   "outputs": [
    {
     "data": {
      "text/plain": [
       "('330쪽', '496g')"
      ]
     },
     "execution_count": 29,
     "metadata": {},
     "output_type": "execute_result"
    }
   ],
   "source": [
    "get_page_cnt(9791190090018)"
   ]
  },
  {
   "cell_type": "code",
   "execution_count": 30,
   "id": "da739a0a",
   "metadata": {
    "id": "da739a0a"
   },
   "outputs": [],
   "source": [
    "top10_books = books.head(10)"
   ]
  },
  {
   "cell_type": "code",
   "execution_count": 31,
   "id": "2a55ce05-1c03-40c3-8816-d7c446f90b42",
   "metadata": {},
   "outputs": [
    {
     "data": {
      "text/html": [
       "<div>\n",
       "<style scoped>\n",
       "    .dataframe tbody tr th:only-of-type {\n",
       "        vertical-align: middle;\n",
       "    }\n",
       "\n",
       "    .dataframe tbody tr th {\n",
       "        vertical-align: top;\n",
       "    }\n",
       "\n",
       "    .dataframe thead th {\n",
       "        text-align: right;\n",
       "    }\n",
       "</style>\n",
       "<table border=\"1\" class=\"dataframe\">\n",
       "  <thead>\n",
       "    <tr style=\"text-align: right;\">\n",
       "      <th></th>\n",
       "      <th>no</th>\n",
       "      <th>ranking</th>\n",
       "      <th>bookname</th>\n",
       "      <th>authors</th>\n",
       "      <th>publisher</th>\n",
       "      <th>publication_year</th>\n",
       "      <th>isbn13</th>\n",
       "    </tr>\n",
       "  </thead>\n",
       "  <tbody>\n",
       "    <tr>\n",
       "      <th>0</th>\n",
       "      <td>1</td>\n",
       "      <td>1</td>\n",
       "      <td>우리가 빛의 속도로 갈 수 없다면 :김초엽 소설</td>\n",
       "      <td>지은이: 김초엽</td>\n",
       "      <td>허블</td>\n",
       "      <td>2019</td>\n",
       "      <td>9791190090018</td>\n",
       "    </tr>\n",
       "    <tr>\n",
       "      <th>1</th>\n",
       "      <td>2</td>\n",
       "      <td>2</td>\n",
       "      <td>달러구트 꿈 백화점.이미예 장편소설</td>\n",
       "      <td>지은이: 이미예</td>\n",
       "      <td>팩토리나인</td>\n",
       "      <td>2020</td>\n",
       "      <td>9791165341909</td>\n",
       "    </tr>\n",
       "    <tr>\n",
       "      <th>2</th>\n",
       "      <td>3</td>\n",
       "      <td>3</td>\n",
       "      <td>지구에서 한아뿐 :정세랑 장편소설</td>\n",
       "      <td>지은이: 정세랑</td>\n",
       "      <td>난다</td>\n",
       "      <td>2019</td>\n",
       "      <td>9791188862290</td>\n",
       "    </tr>\n",
       "    <tr>\n",
       "      <th>3</th>\n",
       "      <td>4</td>\n",
       "      <td>4</td>\n",
       "      <td>시선으로부터, :정세랑 장편소설</td>\n",
       "      <td>지은이: 정세랑</td>\n",
       "      <td>문학동네</td>\n",
       "      <td>2020</td>\n",
       "      <td>9788954672214</td>\n",
       "    </tr>\n",
       "    <tr>\n",
       "      <th>4</th>\n",
       "      <td>5</td>\n",
       "      <td>5</td>\n",
       "      <td>아몬드 :손원평 장편소설</td>\n",
       "      <td>지은이: 손원평</td>\n",
       "      <td>창비</td>\n",
       "      <td>2017</td>\n",
       "      <td>9788936434267</td>\n",
       "    </tr>\n",
       "    <tr>\n",
       "      <th>5</th>\n",
       "      <td>6</td>\n",
       "      <td>6</td>\n",
       "      <td>피프티 피플 :정세랑 장편소설</td>\n",
       "      <td>지은이: 정세랑</td>\n",
       "      <td>창비</td>\n",
       "      <td>2016</td>\n",
       "      <td>9788936434243</td>\n",
       "    </tr>\n",
       "    <tr>\n",
       "      <th>6</th>\n",
       "      <td>7</td>\n",
       "      <td>7</td>\n",
       "      <td>목소리를 드릴게요 :정세랑 소설집</td>\n",
       "      <td>지은이: 정세랑</td>\n",
       "      <td>아작</td>\n",
       "      <td>2020</td>\n",
       "      <td>9791165300005</td>\n",
       "    </tr>\n",
       "    <tr>\n",
       "      <th>7</th>\n",
       "      <td>8</td>\n",
       "      <td>8</td>\n",
       "      <td>나미야 잡화점의 기적 :히가시노 게이고 장편소설</td>\n",
       "      <td>지은이: 히가시노 게이고 ;옮긴이: 양윤옥</td>\n",
       "      <td>현대문학</td>\n",
       "      <td>2012</td>\n",
       "      <td>9788972756194</td>\n",
       "    </tr>\n",
       "    <tr>\n",
       "      <th>8</th>\n",
       "      <td>9</td>\n",
       "      <td>9</td>\n",
       "      <td>선량한 차별주의자</td>\n",
       "      <td>김지혜 지음</td>\n",
       "      <td>창비</td>\n",
       "      <td>2019</td>\n",
       "      <td>9788936477196</td>\n",
       "    </tr>\n",
       "    <tr>\n",
       "      <th>9</th>\n",
       "      <td>10</td>\n",
       "      <td>9</td>\n",
       "      <td>쇼코의 미소 :최은영 소설</td>\n",
       "      <td>지은이: 최은영</td>\n",
       "      <td>문학동네</td>\n",
       "      <td>2016</td>\n",
       "      <td>9788954641630</td>\n",
       "    </tr>\n",
       "  </tbody>\n",
       "</table>\n",
       "</div>"
      ],
      "text/plain": [
       "   no  ranking                     bookname                  authors  \\\n",
       "0   1        1  우리가 빛의 속도로 갈 수 없다면 :김초엽 소설                  지은이: 김초엽   \n",
       "1   2        2         달러구트 꿈 백화점.이미예 장편소설                  지은이: 이미예   \n",
       "2   3        3          지구에서 한아뿐 :정세랑 장편소설                  지은이: 정세랑   \n",
       "3   4        4           시선으로부터, :정세랑 장편소설                  지은이: 정세랑   \n",
       "4   5        5               아몬드 :손원평 장편소설                  지은이: 손원평   \n",
       "5   6        6            피프티 피플 :정세랑 장편소설                  지은이: 정세랑   \n",
       "6   7        7          목소리를 드릴게요 :정세랑 소설집                  지은이: 정세랑   \n",
       "7   8        8  나미야 잡화점의 기적 :히가시노 게이고 장편소설   지은이: 히가시노 게이고 ;옮긴이: 양윤옥   \n",
       "8   9        9                   선량한 차별주의자                    김지혜 지음   \n",
       "9  10        9              쇼코의 미소 :최은영 소설                  지은이: 최은영   \n",
       "\n",
       "  publisher publication_year         isbn13  \n",
       "0        허블             2019  9791190090018  \n",
       "1     팩토리나인             2020  9791165341909  \n",
       "2        난다             2019  9791188862290  \n",
       "3      문학동네             2020  9788954672214  \n",
       "4        창비             2017  9788936434267  \n",
       "5        창비             2016  9788936434243  \n",
       "6        아작             2020  9791165300005  \n",
       "7      현대문학             2012  9788972756194  \n",
       "8        창비             2019  9788936477196  \n",
       "9      문학동네             2016  9788954641630  "
      ]
     },
     "execution_count": 31,
     "metadata": {},
     "output_type": "execute_result"
    }
   ],
   "source": [
    "top10_books"
   ]
  },
  {
   "cell_type": "code",
   "execution_count": 32,
   "id": "0bff8104",
   "metadata": {
    "id": "0bff8104"
   },
   "outputs": [],
   "source": [
    "def get_page_cnt2(row):\n",
    "    isbn = row['isbn13']\n",
    "    return get_page_cnt(isbn)"
   ]
  },
  {
   "cell_type": "code",
   "execution_count": 33,
   "id": "fb638a9b",
   "metadata": {
    "colab": {
     "base_uri": "https://localhost:8080/"
    },
    "id": "fb638a9b",
    "outputId": "08d69c61-4760-4bb2-a337-f3c8db64c9b3"
   },
   "outputs": [
    {
     "name": "stdout",
     "output_type": "stream",
     "text": [
      "0    (330쪽, 496g)\n",
      "1    (300쪽, 358g)\n",
      "2    (228쪽, 296g)\n",
      "3    (340쪽, 412g)\n",
      "4    (264쪽, 388g)\n",
      "5    (396쪽, 512g)\n",
      "6    (272쪽, 318g)\n",
      "7                \n",
      "8    (244쪽, 324g)\n",
      "9    (296쪽, 406g)\n",
      "dtype: object\n"
     ]
    }
   ],
   "source": [
    "page_count_weight = top10_books.apply(get_page_cnt2, axis=1)\n",
    "print(page_count_weight)"
   ]
  },
  {
   "cell_type": "code",
   "execution_count": 35,
   "id": "85375062",
   "metadata": {
    "colab": {
     "base_uri": "https://localhost:8080/"
    },
    "id": "85375062",
    "outputId": "3de08f1c-241c-4c17-8735-1c682544a01a"
   },
   "outputs": [],
   "source": [
    "#page_count.name = 'page_count'\n",
    "#print(page_count)"
   ]
  },
  {
   "cell_type": "code",
   "execution_count": 36,
   "id": "0617d62f-87ac-4930-a77a-34cd1549acfe",
   "metadata": {},
   "outputs": [],
   "source": [
    "page_count_weight_df = pd.DataFrame(page_count_weight.tolist(), columns=['page_count', 'weight'])"
   ]
  },
  {
   "cell_type": "code",
   "execution_count": 37,
   "id": "7351e7b8-6461-47d4-829f-1823cbc0a4bf",
   "metadata": {},
   "outputs": [
    {
     "data": {
      "text/html": [
       "<div>\n",
       "<style scoped>\n",
       "    .dataframe tbody tr th:only-of-type {\n",
       "        vertical-align: middle;\n",
       "    }\n",
       "\n",
       "    .dataframe tbody tr th {\n",
       "        vertical-align: top;\n",
       "    }\n",
       "\n",
       "    .dataframe thead th {\n",
       "        text-align: right;\n",
       "    }\n",
       "</style>\n",
       "<table border=\"1\" class=\"dataframe\">\n",
       "  <thead>\n",
       "    <tr style=\"text-align: right;\">\n",
       "      <th></th>\n",
       "      <th>page_count</th>\n",
       "      <th>weight</th>\n",
       "    </tr>\n",
       "  </thead>\n",
       "  <tbody>\n",
       "    <tr>\n",
       "      <th>0</th>\n",
       "      <td>330쪽</td>\n",
       "      <td>496g</td>\n",
       "    </tr>\n",
       "    <tr>\n",
       "      <th>1</th>\n",
       "      <td>300쪽</td>\n",
       "      <td>358g</td>\n",
       "    </tr>\n",
       "    <tr>\n",
       "      <th>2</th>\n",
       "      <td>228쪽</td>\n",
       "      <td>296g</td>\n",
       "    </tr>\n",
       "    <tr>\n",
       "      <th>3</th>\n",
       "      <td>340쪽</td>\n",
       "      <td>412g</td>\n",
       "    </tr>\n",
       "    <tr>\n",
       "      <th>4</th>\n",
       "      <td>264쪽</td>\n",
       "      <td>388g</td>\n",
       "    </tr>\n",
       "    <tr>\n",
       "      <th>5</th>\n",
       "      <td>396쪽</td>\n",
       "      <td>512g</td>\n",
       "    </tr>\n",
       "    <tr>\n",
       "      <th>6</th>\n",
       "      <td>272쪽</td>\n",
       "      <td>318g</td>\n",
       "    </tr>\n",
       "    <tr>\n",
       "      <th>7</th>\n",
       "      <td>None</td>\n",
       "      <td>None</td>\n",
       "    </tr>\n",
       "    <tr>\n",
       "      <th>8</th>\n",
       "      <td>244쪽</td>\n",
       "      <td>324g</td>\n",
       "    </tr>\n",
       "    <tr>\n",
       "      <th>9</th>\n",
       "      <td>296쪽</td>\n",
       "      <td>406g</td>\n",
       "    </tr>\n",
       "  </tbody>\n",
       "</table>\n",
       "</div>"
      ],
      "text/plain": [
       "  page_count weight\n",
       "0       330쪽   496g\n",
       "1       300쪽   358g\n",
       "2       228쪽   296g\n",
       "3       340쪽   412g\n",
       "4       264쪽   388g\n",
       "5       396쪽   512g\n",
       "6       272쪽   318g\n",
       "7       None   None\n",
       "8       244쪽   324g\n",
       "9       296쪽   406g"
      ]
     },
     "execution_count": 37,
     "metadata": {},
     "output_type": "execute_result"
    }
   ],
   "source": [
    "page_count_weight_df"
   ]
  },
  {
   "cell_type": "code",
   "execution_count": 38,
   "id": "7ac45b9f",
   "metadata": {
    "colab": {
     "base_uri": "https://localhost:8080/",
     "height": 363
    },
    "id": "7ac45b9f",
    "outputId": "1fd709eb-9179-4077-b9ac-83016325af89",
    "scrolled": true
   },
   "outputs": [
    {
     "data": {
      "text/html": [
       "<div>\n",
       "<style scoped>\n",
       "    .dataframe tbody tr th:only-of-type {\n",
       "        vertical-align: middle;\n",
       "    }\n",
       "\n",
       "    .dataframe tbody tr th {\n",
       "        vertical-align: top;\n",
       "    }\n",
       "\n",
       "    .dataframe thead th {\n",
       "        text-align: right;\n",
       "    }\n",
       "</style>\n",
       "<table border=\"1\" class=\"dataframe\">\n",
       "  <thead>\n",
       "    <tr style=\"text-align: right;\">\n",
       "      <th></th>\n",
       "      <th>no</th>\n",
       "      <th>ranking</th>\n",
       "      <th>bookname</th>\n",
       "      <th>authors</th>\n",
       "      <th>publisher</th>\n",
       "      <th>publication_year</th>\n",
       "      <th>isbn13</th>\n",
       "      <th>page_count</th>\n",
       "      <th>weight</th>\n",
       "    </tr>\n",
       "  </thead>\n",
       "  <tbody>\n",
       "    <tr>\n",
       "      <th>0</th>\n",
       "      <td>1</td>\n",
       "      <td>1</td>\n",
       "      <td>우리가 빛의 속도로 갈 수 없다면 :김초엽 소설</td>\n",
       "      <td>지은이: 김초엽</td>\n",
       "      <td>허블</td>\n",
       "      <td>2019</td>\n",
       "      <td>9791190090018</td>\n",
       "      <td>330쪽</td>\n",
       "      <td>496g</td>\n",
       "    </tr>\n",
       "    <tr>\n",
       "      <th>1</th>\n",
       "      <td>2</td>\n",
       "      <td>2</td>\n",
       "      <td>달러구트 꿈 백화점.이미예 장편소설</td>\n",
       "      <td>지은이: 이미예</td>\n",
       "      <td>팩토리나인</td>\n",
       "      <td>2020</td>\n",
       "      <td>9791165341909</td>\n",
       "      <td>300쪽</td>\n",
       "      <td>358g</td>\n",
       "    </tr>\n",
       "    <tr>\n",
       "      <th>2</th>\n",
       "      <td>3</td>\n",
       "      <td>3</td>\n",
       "      <td>지구에서 한아뿐 :정세랑 장편소설</td>\n",
       "      <td>지은이: 정세랑</td>\n",
       "      <td>난다</td>\n",
       "      <td>2019</td>\n",
       "      <td>9791188862290</td>\n",
       "      <td>228쪽</td>\n",
       "      <td>296g</td>\n",
       "    </tr>\n",
       "    <tr>\n",
       "      <th>3</th>\n",
       "      <td>4</td>\n",
       "      <td>4</td>\n",
       "      <td>시선으로부터, :정세랑 장편소설</td>\n",
       "      <td>지은이: 정세랑</td>\n",
       "      <td>문학동네</td>\n",
       "      <td>2020</td>\n",
       "      <td>9788954672214</td>\n",
       "      <td>340쪽</td>\n",
       "      <td>412g</td>\n",
       "    </tr>\n",
       "    <tr>\n",
       "      <th>4</th>\n",
       "      <td>5</td>\n",
       "      <td>5</td>\n",
       "      <td>아몬드 :손원평 장편소설</td>\n",
       "      <td>지은이: 손원평</td>\n",
       "      <td>창비</td>\n",
       "      <td>2017</td>\n",
       "      <td>9788936434267</td>\n",
       "      <td>264쪽</td>\n",
       "      <td>388g</td>\n",
       "    </tr>\n",
       "    <tr>\n",
       "      <th>5</th>\n",
       "      <td>6</td>\n",
       "      <td>6</td>\n",
       "      <td>피프티 피플 :정세랑 장편소설</td>\n",
       "      <td>지은이: 정세랑</td>\n",
       "      <td>창비</td>\n",
       "      <td>2016</td>\n",
       "      <td>9788936434243</td>\n",
       "      <td>396쪽</td>\n",
       "      <td>512g</td>\n",
       "    </tr>\n",
       "    <tr>\n",
       "      <th>6</th>\n",
       "      <td>7</td>\n",
       "      <td>7</td>\n",
       "      <td>목소리를 드릴게요 :정세랑 소설집</td>\n",
       "      <td>지은이: 정세랑</td>\n",
       "      <td>아작</td>\n",
       "      <td>2020</td>\n",
       "      <td>9791165300005</td>\n",
       "      <td>272쪽</td>\n",
       "      <td>318g</td>\n",
       "    </tr>\n",
       "    <tr>\n",
       "      <th>7</th>\n",
       "      <td>8</td>\n",
       "      <td>8</td>\n",
       "      <td>나미야 잡화점의 기적 :히가시노 게이고 장편소설</td>\n",
       "      <td>지은이: 히가시노 게이고 ;옮긴이: 양윤옥</td>\n",
       "      <td>현대문학</td>\n",
       "      <td>2012</td>\n",
       "      <td>9788972756194</td>\n",
       "      <td>None</td>\n",
       "      <td>None</td>\n",
       "    </tr>\n",
       "    <tr>\n",
       "      <th>8</th>\n",
       "      <td>9</td>\n",
       "      <td>9</td>\n",
       "      <td>선량한 차별주의자</td>\n",
       "      <td>김지혜 지음</td>\n",
       "      <td>창비</td>\n",
       "      <td>2019</td>\n",
       "      <td>9788936477196</td>\n",
       "      <td>244쪽</td>\n",
       "      <td>324g</td>\n",
       "    </tr>\n",
       "    <tr>\n",
       "      <th>9</th>\n",
       "      <td>10</td>\n",
       "      <td>9</td>\n",
       "      <td>쇼코의 미소 :최은영 소설</td>\n",
       "      <td>지은이: 최은영</td>\n",
       "      <td>문학동네</td>\n",
       "      <td>2016</td>\n",
       "      <td>9788954641630</td>\n",
       "      <td>296쪽</td>\n",
       "      <td>406g</td>\n",
       "    </tr>\n",
       "  </tbody>\n",
       "</table>\n",
       "</div>"
      ],
      "text/plain": [
       "   no  ranking                     bookname                  authors  \\\n",
       "0   1        1  우리가 빛의 속도로 갈 수 없다면 :김초엽 소설                  지은이: 김초엽   \n",
       "1   2        2         달러구트 꿈 백화점.이미예 장편소설                  지은이: 이미예   \n",
       "2   3        3          지구에서 한아뿐 :정세랑 장편소설                  지은이: 정세랑   \n",
       "3   4        4           시선으로부터, :정세랑 장편소설                  지은이: 정세랑   \n",
       "4   5        5               아몬드 :손원평 장편소설                  지은이: 손원평   \n",
       "5   6        6            피프티 피플 :정세랑 장편소설                  지은이: 정세랑   \n",
       "6   7        7          목소리를 드릴게요 :정세랑 소설집                  지은이: 정세랑   \n",
       "7   8        8  나미야 잡화점의 기적 :히가시노 게이고 장편소설   지은이: 히가시노 게이고 ;옮긴이: 양윤옥   \n",
       "8   9        9                   선량한 차별주의자                    김지혜 지음   \n",
       "9  10        9              쇼코의 미소 :최은영 소설                  지은이: 최은영   \n",
       "\n",
       "  publisher publication_year         isbn13 page_count weight  \n",
       "0        허블             2019  9791190090018       330쪽   496g  \n",
       "1     팩토리나인             2020  9791165341909       300쪽   358g  \n",
       "2        난다             2019  9791188862290       228쪽   296g  \n",
       "3      문학동네             2020  9788954672214       340쪽   412g  \n",
       "4        창비             2017  9788936434267       264쪽   388g  \n",
       "5        창비             2016  9788936434243       396쪽   512g  \n",
       "6        아작             2020  9791165300005       272쪽   318g  \n",
       "7      현대문학             2012  9788972756194       None   None  \n",
       "8        창비             2019  9788936477196       244쪽   324g  \n",
       "9      문학동네             2016  9788954641630       296쪽   406g  "
      ]
     },
     "execution_count": 38,
     "metadata": {},
     "output_type": "execute_result"
    }
   ],
   "source": [
    "top10_with_page_count = pd.merge(top10_books, page_count_weight_df,\n",
    "                                 left_index=True, right_index=True)\n",
    "top10_with_page_count"
   ]
  },
  {
   "cell_type": "markdown",
   "id": "8s0l24QgYL17",
   "metadata": {
    "id": "8s0l24QgYL17"
   },
   "source": [
    "## `merge()` 함수의 매개변수"
   ]
  },
  {
   "cell_type": "code",
   "execution_count": null,
   "id": "J-0XefxwYLeN",
   "metadata": {
    "colab": {
     "base_uri": "https://localhost:8080/",
     "height": 143
    },
    "id": "J-0XefxwYLeN",
    "outputId": "c8e11217-f9f3-4ae9-cbf9-3fd58212820b"
   },
   "outputs": [],
   "source": [
    "df1 = pd.DataFrame({'col1': ['a','b','c'], 'col2': [1,2,3]})\n",
    "df1"
   ]
  },
  {
   "cell_type": "code",
   "execution_count": null,
   "id": "dcVtBloUYaF9",
   "metadata": {
    "colab": {
     "base_uri": "https://localhost:8080/",
     "height": 143
    },
    "id": "dcVtBloUYaF9",
    "outputId": "a62b75e0-ff7b-400d-913a-5875396285d0"
   },
   "outputs": [],
   "source": [
    "df2 = pd.DataFrame({'col1': ['a','b','d'], 'col3': [10,20,30]})\n",
    "df2"
   ]
  },
  {
   "cell_type": "code",
   "execution_count": null,
   "id": "byJy-hZUY2wT",
   "metadata": {
    "colab": {
     "base_uri": "https://localhost:8080/",
     "height": 112
    },
    "id": "byJy-hZUY2wT",
    "outputId": "7d465798-17de-4657-9b33-b647af85869e"
   },
   "outputs": [],
   "source": [
    "pd.merge(df1, df2, on='col1')"
   ]
  },
  {
   "cell_type": "code",
   "execution_count": null,
   "id": "3iFR29aJY6rp",
   "metadata": {
    "colab": {
     "base_uri": "https://localhost:8080/",
     "height": 143
    },
    "id": "3iFR29aJY6rp",
    "outputId": "1d1cd0d2-42bd-47ff-f0aa-90dff0cf2764"
   },
   "outputs": [],
   "source": [
    "pd.merge(df1, df2, how='left', on='col1')"
   ]
  },
  {
   "cell_type": "code",
   "execution_count": null,
   "id": "L02Mt5CvY_gJ",
   "metadata": {
    "colab": {
     "base_uri": "https://localhost:8080/",
     "height": 143
    },
    "id": "L02Mt5CvY_gJ",
    "outputId": "99f2f79f-b200-4b93-b8e5-e94b781c00d4"
   },
   "outputs": [],
   "source": [
    "pd.merge(df1, df2, how='right', on='col1')"
   ]
  },
  {
   "cell_type": "code",
   "execution_count": null,
   "id": "JWnkHNCUZDw7",
   "metadata": {
    "colab": {
     "base_uri": "https://localhost:8080/",
     "height": 175
    },
    "id": "JWnkHNCUZDw7",
    "outputId": "7f0d0269-f8ae-4cab-bf7b-9d8340232409"
   },
   "outputs": [],
   "source": [
    "pd.merge(df1, df2, how='outer', on='col1')"
   ]
  },
  {
   "cell_type": "code",
   "execution_count": null,
   "id": "4tWD1a58ZGrx",
   "metadata": {
    "colab": {
     "base_uri": "https://localhost:8080/",
     "height": 112
    },
    "id": "4tWD1a58ZGrx",
    "outputId": "942f7888-0de2-49bf-a983-95ba1c9e757e"
   },
   "outputs": [],
   "source": [
    "pd.merge(df1, df2, left_on='col1', right_on='col1')"
   ]
  },
  {
   "cell_type": "code",
   "execution_count": null,
   "id": "CXR4LsHlZfqQ",
   "metadata": {
    "colab": {
     "base_uri": "https://localhost:8080/",
     "height": 112
    },
    "id": "CXR4LsHlZfqQ",
    "outputId": "b21228c6-20d1-4609-bf08-9d5f3e0e1ecf"
   },
   "outputs": [],
   "source": [
    "pd.merge(df1, df2, left_on='col2', right_index=True)"
   ]
  }
 ],
 "metadata": {
  "colab": {
   "provenance": []
  },
  "kernelspec": {
   "display_name": "Python 3 (ipykernel)",
   "language": "python",
   "name": "python3"
  },
  "language_info": {
   "codemirror_mode": {
    "name": "ipython",
    "version": 3
   },
   "file_extension": ".py",
   "mimetype": "text/x-python",
   "name": "python",
   "nbconvert_exporter": "python",
   "pygments_lexer": "ipython3",
   "version": "3.12.2"
  }
 },
 "nbformat": 4,
 "nbformat_minor": 5
}
