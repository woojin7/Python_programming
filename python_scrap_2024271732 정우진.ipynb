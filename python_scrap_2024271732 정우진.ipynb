{
 "cells": [
  {
   "cell_type": "code",
   "execution_count": 4,
   "id": "e034aae5-6fcf-4d5f-a3a4-4c80df534470",
   "metadata": {},
   "outputs": [
    {
     "name": "stdout",
     "output_type": "stream",
     "text": [
      "menu\n"
     ]
    }
   ],
   "source": [
    "import xml.etree.ElementTree as et\n",
    "tree = et.ElementTree(file='menu.xml')\n",
    "root = tree.getroot()\n",
    "\n",
    "print(root.tag)"
   ]
  },
  {
   "cell_type": "code",
   "execution_count": 6,
   "id": "e2a5ea82-3b74-4e8c-af6f-9819afb440b8",
   "metadata": {},
   "outputs": [
    {
     "name": "stdout",
     "output_type": "stream",
     "text": [
      "tag: breakfast attributes: {'hours': '7-11'}\n",
      "\ttag: item attributes: {'price': '$6.00'}\n",
      "\ttag: item attributes: {'price': '$4.00'}\n",
      "tag: lunch attributes: {'hours': '11-3'}\n",
      "\ttag: item attributes: {'price': '$5.00'}\n",
      "tag: dinner attributes: {'hours': '3-10'}\n",
      "\ttag: item attributes: {'price': '8.00'}\n"
     ]
    }
   ],
   "source": [
    "for child in root:\n",
    "    print('tag:', child.tag, 'attributes:', child.attrib)\n",
    "    for grandchild in child:\n",
    "        print('\\ttag:', grandchild.tag, 'attributes:', grandchild.attrib)"
   ]
  },
  {
   "cell_type": "code",
   "execution_count": 7,
   "id": "09c2d963-8331-43cf-9f88-56dadf6d7c03",
   "metadata": {},
   "outputs": [
    {
     "data": {
      "text/plain": [
       "3"
      ]
     },
     "execution_count": 7,
     "metadata": {},
     "output_type": "execute_result"
    }
   ],
   "source": [
    "len(root)"
   ]
  },
  {
   "cell_type": "code",
   "execution_count": 8,
   "id": "de7b92c3-a5da-48bf-9116-faca3e5ef637",
   "metadata": {},
   "outputs": [
    {
     "data": {
      "text/plain": [
       "2"
      ]
     },
     "execution_count": 8,
     "metadata": {},
     "output_type": "execute_result"
    }
   ],
   "source": [
    "len(root[0])"
   ]
  },
  {
   "cell_type": "code",
   "execution_count": 9,
   "id": "a3de74a4-4939-457c-80f9-68f8c38ad948",
   "metadata": {},
   "outputs": [
    {
     "data": {
      "text/plain": [
       "xml.etree.ElementTree.Element"
      ]
     },
     "execution_count": 9,
     "metadata": {},
     "output_type": "execute_result"
    }
   ],
   "source": [
    "type(root[0])"
   ]
  },
  {
   "cell_type": "code",
   "execution_count": 10,
   "id": "e9c0d410-61f0-4f57-a0bc-85717c4cdaa0",
   "metadata": {},
   "outputs": [
    {
     "data": {
      "text/plain": [
       "<Element 'breakfast' at 0x000001EDDCDFC220>"
      ]
     },
     "execution_count": 10,
     "metadata": {},
     "output_type": "execute_result"
    }
   ],
   "source": [
    "root[0]"
   ]
  },
  {
   "cell_type": "code",
   "execution_count": 11,
   "id": "a9abddf9-6c79-4650-9842-9942404d0560",
   "metadata": {},
   "outputs": [
    {
     "data": {
      "text/plain": [
       "'7-11'"
      ]
     },
     "execution_count": 11,
     "metadata": {},
     "output_type": "execute_result"
    }
   ],
   "source": [
    "root[0].get('hours')"
   ]
  },
  {
   "cell_type": "code",
   "execution_count": 12,
   "id": "1eb715ca-edf2-4740-aa7e-aaff59986081",
   "metadata": {},
   "outputs": [
    {
     "data": {
      "text/plain": [
       "['hours']"
      ]
     },
     "execution_count": 12,
     "metadata": {},
     "output_type": "execute_result"
    }
   ],
   "source": [
    "root[0].keys()"
   ]
  },
  {
   "cell_type": "code",
   "execution_count": 13,
   "id": "7b5e130c-8642-4b10-8550-710f3d3e2a6a",
   "metadata": {},
   "outputs": [
    {
     "data": {
      "text/plain": [
       "[('hours', '7-11')]"
      ]
     },
     "execution_count": 13,
     "metadata": {},
     "output_type": "execute_result"
    }
   ],
   "source": [
    "root[0].items()"
   ]
  },
  {
   "cell_type": "code",
   "execution_count": 14,
   "id": "264d6bc3-01bc-462e-a964-c10ce93074db",
   "metadata": {},
   "outputs": [],
   "source": [
    "lunch = root.find('lunch')"
   ]
  },
  {
   "cell_type": "code",
   "execution_count": 15,
   "id": "23e1ee01-11b0-46bf-9163-7e1cd4aa2da1",
   "metadata": {},
   "outputs": [
    {
     "data": {
      "text/plain": [
       "<Element 'lunch' at 0x000001EDDCDFC680>"
      ]
     },
     "execution_count": 15,
     "metadata": {},
     "output_type": "execute_result"
    }
   ],
   "source": [
    "lunch"
   ]
  },
  {
   "cell_type": "code",
   "execution_count": 16,
   "id": "4348a6e8-c213-4dc8-b52b-6dd3e1dff1e3",
   "metadata": {},
   "outputs": [
    {
     "data": {
      "text/plain": [
       "'11-3'"
      ]
     },
     "execution_count": 16,
     "metadata": {},
     "output_type": "execute_result"
    }
   ],
   "source": [
    "lunch.get('hours')"
   ]
  },
  {
   "cell_type": "code",
   "execution_count": 17,
   "id": "b145361b-38e5-42d2-8b25-fb0e1e55bdab",
   "metadata": {},
   "outputs": [
    {
     "data": {
      "text/plain": [
       "['hours']"
      ]
     },
     "execution_count": 17,
     "metadata": {},
     "output_type": "execute_result"
    }
   ],
   "source": [
    "lunch.keys()"
   ]
  },
  {
   "cell_type": "code",
   "execution_count": 18,
   "id": "41c2d755-24fc-4270-93cd-d28b257a3e12",
   "metadata": {},
   "outputs": [
    {
     "data": {
      "text/plain": [
       "[('hours', '11-3')]"
      ]
     },
     "execution_count": 18,
     "metadata": {},
     "output_type": "execute_result"
    }
   ],
   "source": [
    "lunch.items()"
   ]
  },
  {
   "cell_type": "code",
   "execution_count": 23,
   "id": "dcb41c22-ae67-4c34-bd77-13fe22088c4b",
   "metadata": {},
   "outputs": [
    {
     "data": {
      "text/plain": [
       "[<Element 'item' at 0x000001EDDCDFC5E0>,\n",
       " <Element 'item' at 0x000001EDDCDFC630>]"
      ]
     },
     "execution_count": 23,
     "metadata": {},
     "output_type": "execute_result"
    }
   ],
   "source": [
    "root[0].findall('item')"
   ]
  },
  {
   "cell_type": "code",
   "execution_count": 24,
   "id": "ec889c08-a506-4eb7-925c-f9dff5331e60",
   "metadata": {},
   "outputs": [
    {
     "name": "stdout",
     "output_type": "stream",
     "text": [
      "$6.00\n",
      "breakfast burritos\n",
      "$4.00\n",
      "pancakes\n"
     ]
    }
   ],
   "source": [
    "for item in root[0].findall('item'):\n",
    "    print(item.get('price'))\n",
    "    print(item.text)"
   ]
  },
  {
   "cell_type": "code",
   "execution_count": 25,
   "id": "e6566462-c29b-4b3b-b6f3-1678e39dc6b9",
   "metadata": {},
   "outputs": [],
   "source": [
    "import json"
   ]
  },
  {
   "cell_type": "code",
   "execution_count": 26,
   "id": "3b292e62-dede-4675-a7cc-6dc72eac1623",
   "metadata": {},
   "outputs": [],
   "source": [
    "j1 = {'name':'홍길동', 'birth':'0525', 'age':30}"
   ]
  },
  {
   "cell_type": "code",
   "execution_count": 27,
   "id": "710d30f5-4e03-45fd-beaf-fb45e4ee9326",
   "metadata": {},
   "outputs": [
    {
     "data": {
      "text/plain": [
       "{'name': '홍길동', 'birth': '0525', 'age': 30}"
      ]
     },
     "execution_count": 27,
     "metadata": {},
     "output_type": "execute_result"
    }
   ],
   "source": [
    "j1"
   ]
  },
  {
   "cell_type": "code",
   "execution_count": 29,
   "id": "0e6156c8-caa6-442e-97f8-7c603fc14df0",
   "metadata": {},
   "outputs": [
    {
     "data": {
      "text/plain": [
       "dict"
      ]
     },
     "execution_count": 29,
     "metadata": {},
     "output_type": "execute_result"
    }
   ],
   "source": [
    "type(j1)"
   ]
  },
  {
   "cell_type": "code",
   "execution_count": 28,
   "id": "6bdc38b1-f413-435d-b8f8-6d765e86d738",
   "metadata": {},
   "outputs": [
    {
     "data": {
      "text/plain": [
       "'{\"name\": \"\\\\ud64d\\\\uae38\\\\ub3d9\", \"birth\": \"0525\", \"age\": 30}'"
      ]
     },
     "execution_count": 28,
     "metadata": {},
     "output_type": "execute_result"
    }
   ],
   "source": [
    "json.dumps(j1)"
   ]
  },
  {
   "cell_type": "code",
   "execution_count": 30,
   "id": "4ab557ac-2cca-47c8-9030-03d7945ec018",
   "metadata": {},
   "outputs": [],
   "source": [
    "a = json.dumps(j1)"
   ]
  },
  {
   "cell_type": "code",
   "execution_count": 31,
   "id": "e96d095e-54ad-4c73-9484-52fc976c7a81",
   "metadata": {},
   "outputs": [
    {
     "data": {
      "text/plain": [
       "str"
      ]
     },
     "execution_count": 31,
     "metadata": {},
     "output_type": "execute_result"
    }
   ],
   "source": [
    "type(a)"
   ]
  },
  {
   "cell_type": "code",
   "execution_count": 35,
   "id": "63804242-39c1-4540-bc02-9ae0e36e97d5",
   "metadata": {},
   "outputs": [
    {
     "name": "stdout",
     "output_type": "stream",
     "text": [
      "{\n",
      "  \"name\": \"\\ud64d\\uae38\\ub3d9\",\n",
      "  \"birth\": \"0525\",\n",
      "  \"age\": 30\n",
      "}\n"
     ]
    }
   ],
   "source": [
    "print(json.dumps(j1, indent=2))"
   ]
  },
  {
   "cell_type": "code",
   "execution_count": 36,
   "id": "f5803b3c-9097-4214-95a1-9cc31f6247c4",
   "metadata": {},
   "outputs": [
    {
     "data": {
      "text/plain": [
       "'[1, 2, 3]'"
      ]
     },
     "execution_count": 36,
     "metadata": {},
     "output_type": "execute_result"
    }
   ],
   "source": [
    "json.dumps([1,2,3])"
   ]
  },
  {
   "cell_type": "code",
   "execution_count": 37,
   "id": "2e06c593-5943-4868-a821-4e25b2fd8ec7",
   "metadata": {},
   "outputs": [
    {
     "data": {
      "text/plain": [
       "'[1, 2, 3]'"
      ]
     },
     "execution_count": 37,
     "metadata": {},
     "output_type": "execute_result"
    }
   ],
   "source": [
    "json.dumps((1,2,3))"
   ]
  },
  {
   "cell_type": "code",
   "execution_count": 38,
   "id": "0c09ff34-c1d7-4286-a671-0e4182a796fa",
   "metadata": {},
   "outputs": [],
   "source": [
    "j1 = {'name':'홍길동', 'birth':'0525', 'age':30}"
   ]
  },
  {
   "cell_type": "code",
   "execution_count": 39,
   "id": "27608b07-6dd7-48fd-baec-1b80fe0422e7",
   "metadata": {},
   "outputs": [],
   "source": [
    "d1 = json.dumps(j1)"
   ]
  },
  {
   "cell_type": "code",
   "execution_count": 40,
   "id": "34a28b44-23dd-43b0-a567-986aff94ec3c",
   "metadata": {},
   "outputs": [
    {
     "data": {
      "text/plain": [
       "{'name': '홍길동', 'birth': '0525', 'age': 30}"
      ]
     },
     "execution_count": 40,
     "metadata": {},
     "output_type": "execute_result"
    }
   ],
   "source": [
    "j1"
   ]
  },
  {
   "cell_type": "code",
   "execution_count": 41,
   "id": "fef2415d-ec9b-4a55-9f59-001503f3e350",
   "metadata": {},
   "outputs": [
    {
     "data": {
      "text/plain": [
       "'{\"name\": \"\\\\ud64d\\\\uae38\\\\ub3d9\", \"birth\": \"0525\", \"age\": 30}'"
      ]
     },
     "execution_count": 41,
     "metadata": {},
     "output_type": "execute_result"
    }
   ],
   "source": [
    "d1"
   ]
  },
  {
   "cell_type": "code",
   "execution_count": 43,
   "id": "3ffec4df-e1b6-4ac8-9ad4-84c9092539b2",
   "metadata": {},
   "outputs": [
    {
     "data": {
      "text/plain": [
       "{'name': '홍길동', 'birth': '0525', 'age': 30}"
      ]
     },
     "execution_count": 43,
     "metadata": {},
     "output_type": "execute_result"
    }
   ],
   "source": [
    "json.loads(d1)"
   ]
  },
  {
   "cell_type": "code",
   "execution_count": null,
   "id": "e162bf64-3ce3-43ea-99fb-52c6d7db202f",
   "metadata": {},
   "outputs": [],
   "source": []
  }
 ],
 "metadata": {
  "kernelspec": {
   "display_name": "Python 3 (ipykernel)",
   "language": "python",
   "name": "python3"
  },
  "language_info": {
   "codemirror_mode": {
    "name": "ipython",
    "version": 3
   },
   "file_extension": ".py",
   "mimetype": "text/x-python",
   "name": "python",
   "nbconvert_exporter": "python",
   "pygments_lexer": "ipython3",
   "version": "3.12.2"
  }
 },
 "nbformat": 4,
 "nbformat_minor": 5
}
