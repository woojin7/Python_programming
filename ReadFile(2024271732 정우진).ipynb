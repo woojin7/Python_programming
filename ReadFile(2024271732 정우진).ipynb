{
 "cells": [
  {
   "cell_type": "markdown",
   "metadata": {
    "id": "F9LAKEWcYI0G"
   },
   "source": [
    "<h1>Reading Files Python</h1>"
   ]
  },
  {
   "cell_type": "markdown",
   "metadata": {
    "id": "p7BmMI9fYI0H"
   },
   "source": [
    "<p><strong>Welcome!</strong> This notebook will teach you about reading the text file in the Python Programming Language. By the end of this lab, you'll know how to read text files.</p>"
   ]
  },
  {
   "cell_type": "markdown",
   "metadata": {
    "id": "xKoDVcw9YI0I"
   },
   "source": [
    "<h2 id=\"download\">Download Data</h2>"
   ]
  },
  {
   "cell_type": "code",
   "execution_count": 1,
   "metadata": {
    "colab": {
     "base_uri": "https://localhost:8080/"
    },
    "executionInfo": {
     "elapsed": 28627,
     "status": "ok",
     "timestamp": 1676338699554,
     "user": {
      "displayName": "­류호경 | 기술경영전문대학원 기술경영학과 | 교수 | 한양대(서울)",
      "userId": "06914721657492309662"
     },
     "user_tz": -540
    },
    "id": "-m4pzMiqYNvn",
    "outputId": "4496d36c-45b0-4492-c6ed-20309ff4367a"
   },
   "outputs": [
    {
     "ename": "ModuleNotFoundError",
     "evalue": "No module named 'google'",
     "output_type": "error",
     "traceback": [
      "\u001b[1;31m---------------------------------------------------------------------------\u001b[0m",
      "\u001b[1;31mModuleNotFoundError\u001b[0m                       Traceback (most recent call last)",
      "Cell \u001b[1;32mIn[1], line 2\u001b[0m\n\u001b[0;32m      1\u001b[0m \u001b[38;5;66;03m#or use GDrive mounting method #나의 구글드라이브에 접근할 수 있는 권한을 부여하는 것 #기본 정지 작업 왜? 내가 가지고 있는 구글드라이브에서 파일 입출력을 하기 위해서 \u001b[39;00m\n\u001b[1;32m----> 2\u001b[0m \u001b[38;5;28;01mfrom\u001b[39;00m \u001b[38;5;21;01mgoogle\u001b[39;00m\u001b[38;5;21;01m.\u001b[39;00m\u001b[38;5;21;01mcolab\u001b[39;00m \u001b[38;5;28;01mimport\u001b[39;00m drive\n\u001b[0;32m      3\u001b[0m drive\u001b[38;5;241m.\u001b[39mmount(\u001b[38;5;124m'\u001b[39m\u001b[38;5;124m/content/gdrive\u001b[39m\u001b[38;5;124m'\u001b[39m)\n",
      "\u001b[1;31mModuleNotFoundError\u001b[0m: No module named 'google'"
     ]
    }
   ],
   "source": [
    "#or use GDrive mounting method #나의 구글드라이브에 접근할 수 있는 권한을 부여하는 것 #기본 정지 작업 왜? 내가 가지고 있는 구글드라이브에서 파일 입출력을 하기 위해서 \n",
    "from google.colab import drive\n",
    "drive.mount('/content/gdrive')"
   ]
  },
  {
   "cell_type": "markdown",
   "metadata": {
    "id": "GEfUdrpsYI0M"
   },
   "source": [
    "<hr>"
   ]
  },
  {
   "cell_type": "markdown",
   "metadata": {
    "id": "PmiZ2iB3YI0N"
   },
   "source": [
    "<h2 id=\"read\">Reading Text Files</h2>"
   ]
  },
  {
   "cell_type": "markdown",
   "metadata": {
    "id": "p0d4rHn7YI0N"
   },
   "source": [
    "One way to read or write a file in Python is to use the built-in <code>open</code> function. The <code>open</code> function provides a <b>File object</b> that contains the methods and attributes you need in order to read, save, and manipulate the file. In this notebook, we will only cover <b>.txt</b> files. The first parameter you need is the file path and the file name. An example is shown as follow:"
   ]
  },
  {
   "cell_type": "markdown",
   "metadata": {
    "id": "JSQ4KVjRYI0O"
   },
   "source": [
    "<img src=\"https://s3-api.us-geo.objectstorage.softlayer.net/cf-courses-data/CognitiveClass/PY0101EN/Chapter%204/Images/ReadOpen.png\" width=\"500\" />"
   ]
  },
  {
   "cell_type": "markdown",
   "metadata": {
    "id": "BafZWbDFYI0P"
   },
   "source": [
    " The mode argument is optional and the default value is <b>r</b>. In this notebook we only cover two modes: \n",
    "<ul>\n",
    "    <li><b>r</b> Read mode for reading files </li>\n",
    "    <li><b>w</b> Write mode for writing files</li>\n",
    "</ul>"
   ]
  },
  {
   "cell_type": "markdown",
   "metadata": {
    "id": "JmkUE9TMYI0P"
   },
   "source": [
    "For the next example, we will use the text file <b>Example1.txt</b>. The file is shown as follow:"
   ]
  },
  {
   "cell_type": "markdown",
   "metadata": {
    "id": "mVE71z0gYI0Q"
   },
   "source": [
    "<img src=\"https://s3-api.us-geo.objectstorage.softlayer.net/cf-courses-data/CognitiveClass/PY0101EN/Chapter%204/Images/ReadFile.png\" width=\"200\" />"
   ]
  },
  {
   "cell_type": "markdown",
   "metadata": {
    "id": "iOB-Ok1UYI0Q"
   },
   "source": [
    " We read the file: "
   ]
  },
  {
   "cell_type": "code",
   "execution_count": 10,
   "metadata": {
    "executionInfo": {
     "elapsed": 400,
     "status": "ok",
     "timestamp": 1676338877440,
     "user": {
      "displayName": "­류호경 | 기술경영전문대학원 기술경영학과 | 교수 | 한양대(서울)",
      "userId": "06914721657492309662"
     },
     "user_tz": -540
    },
    "id": "W7vJLvx4YI0R"
   },
   "outputs": [],
   "source": [
    "# Read the Example1.txt\n",
    "\n",
    "example1 = \"example1.txt\"\n",
    "file1 = open(example1, \"r\") #\"r\"는 example1 객체를 읽을 수 있는 상태로 만들자. "
   ]
  },
  {
   "cell_type": "markdown",
   "metadata": {
    "id": "4-8J88zrYI0T"
   },
   "source": [
    " We can view the attributes of the file."
   ]
  },
  {
   "cell_type": "markdown",
   "metadata": {
    "id": "ETf5o_TUYI0U"
   },
   "source": [
    "The name of the file:"
   ]
  },
  {
   "cell_type": "code",
   "execution_count": 11,
   "metadata": {
    "colab": {
     "base_uri": "https://localhost:8080/",
     "height": 35
    },
    "executionInfo": {
     "elapsed": 456,
     "status": "ok",
     "timestamp": 1676338891150,
     "user": {
      "displayName": "­류호경 | 기술경영전문대학원 기술경영학과 | 교수 | 한양대(서울)",
      "userId": "06914721657492309662"
     },
     "user_tz": -540
    },
    "id": "bBsi2y2YYI0U",
    "outputId": "73c6c356-2407-4386-b839-a45ca41e1104"
   },
   "outputs": [
    {
     "data": {
      "text/plain": [
       "'example1.txt'"
      ]
     },
     "execution_count": 11,
     "metadata": {},
     "output_type": "execute_result"
    }
   ],
   "source": [
    "# Print the path of file\n",
    "\n",
    "file1.name"
   ]
  },
  {
   "cell_type": "markdown",
   "metadata": {
    "id": "doJ6gXKtYI0X"
   },
   "source": [
    " The mode the file object is in:"
   ]
  },
  {
   "cell_type": "code",
   "execution_count": 12,
   "metadata": {
    "colab": {
     "base_uri": "https://localhost:8080/",
     "height": 35
    },
    "executionInfo": {
     "elapsed": 458,
     "status": "ok",
     "timestamp": 1676338941088,
     "user": {
      "displayName": "­류호경 | 기술경영전문대학원 기술경영학과 | 교수 | 한양대(서울)",
      "userId": "06914721657492309662"
     },
     "user_tz": -540
    },
    "id": "e1aO2Qp-YI0X",
    "outputId": "9274a720-94ea-4043-aa6d-ad5e96b8dd14"
   },
   "outputs": [
    {
     "data": {
      "text/plain": [
       "'r'"
      ]
     },
     "execution_count": 12,
     "metadata": {},
     "output_type": "execute_result"
    }
   ],
   "source": [
    "# Print the mode of file, either 'r' or 'w'\n",
    "\n",
    "file1.mode"
   ]
  },
  {
   "cell_type": "markdown",
   "metadata": {
    "id": "ZrkUUyKPYI0a"
   },
   "source": [
    "We can read the file and assign it to a variable :"
   ]
  },
  {
   "cell_type": "code",
   "execution_count": 13,
   "metadata": {
    "colab": {
     "base_uri": "https://localhost:8080/",
     "height": 35
    },
    "executionInfo": {
     "elapsed": 557,
     "status": "ok",
     "timestamp": 1676338976769,
     "user": {
      "displayName": "­류호경 | 기술경영전문대학원 기술경영학과 | 교수 | 한양대(서울)",
      "userId": "06914721657492309662"
     },
     "user_tz": -540
    },
    "id": "S_DjlFFcYI0b",
    "outputId": "c861da58-6e77-4b48-bbec-20b5c9a0ae14"
   },
   "outputs": [
    {
     "data": {
      "text/plain": [
       "'This is line 1\\nThis is line 2\\nThis is line 3'"
      ]
     },
     "execution_count": 13,
     "metadata": {},
     "output_type": "execute_result"
    }
   ],
   "source": [
    "# Read the file\n",
    "\n",
    "FileContent = file1.read()\n",
    "FileContent"
   ]
  },
  {
   "cell_type": "markdown",
   "metadata": {
    "id": "0_C12EYNYI0d"
   },
   "source": [
    "The <b>\\n</b> means that there is a new line. "
   ]
  },
  {
   "cell_type": "markdown",
   "metadata": {
    "id": "5oa-WfVMYI0e"
   },
   "source": [
    "We can print the file: "
   ]
  },
  {
   "cell_type": "code",
   "execution_count": 14,
   "metadata": {
    "colab": {
     "base_uri": "https://localhost:8080/"
    },
    "executionInfo": {
     "elapsed": 426,
     "status": "ok",
     "timestamp": 1676339021797,
     "user": {
      "displayName": "­류호경 | 기술경영전문대학원 기술경영학과 | 교수 | 한양대(서울)",
      "userId": "06914721657492309662"
     },
     "user_tz": -540
    },
    "id": "H7ttKTIhYI0e",
    "outputId": "1e8d7d82-7ac8-48ec-de16-f45a73d3ed91"
   },
   "outputs": [
    {
     "name": "stdout",
     "output_type": "stream",
     "text": [
      "This is line 1\n",
      "This is line 2\n",
      "This is line 3\n"
     ]
    }
   ],
   "source": [
    "# Print the file with '\\n' as a new line\n",
    "\n",
    "print(FileContent)"
   ]
  },
  {
   "cell_type": "markdown",
   "metadata": {
    "id": "atbm4EMuYI0h"
   },
   "source": [
    "The file is of type string:"
   ]
  },
  {
   "cell_type": "code",
   "execution_count": 15,
   "metadata": {
    "colab": {
     "base_uri": "https://localhost:8080/"
    },
    "executionInfo": {
     "elapsed": 413,
     "status": "ok",
     "timestamp": 1676339044302,
     "user": {
      "displayName": "­류호경 | 기술경영전문대학원 기술경영학과 | 교수 | 한양대(서울)",
      "userId": "06914721657492309662"
     },
     "user_tz": -540
    },
    "id": "JqhDnmIxYI0h",
    "outputId": "b76eb923-41c1-4938-afea-01c4cbff3daa"
   },
   "outputs": [
    {
     "data": {
      "text/plain": [
       "str"
      ]
     },
     "execution_count": 15,
     "metadata": {},
     "output_type": "execute_result"
    }
   ],
   "source": [
    "# Type of file content\n",
    "\n",
    "type(FileContent)"
   ]
  },
  {
   "cell_type": "markdown",
   "metadata": {
    "id": "GH29ckC2YI0k"
   },
   "source": [
    " We must close the file object:"
   ]
  },
  {
   "cell_type": "code",
   "execution_count": 16,
   "metadata": {
    "executionInfo": {
     "elapsed": 570,
     "status": "ok",
     "timestamp": 1676339088217,
     "user": {
      "displayName": "­류호경 | 기술경영전문대학원 기술경영학과 | 교수 | 한양대(서울)",
      "userId": "06914721657492309662"
     },
     "user_tz": -540
    },
    "id": "_bJAhDCnYI0l"
   },
   "outputs": [],
   "source": [
    "# Close file after finish\n",
    "\n",
    "file1.close()"
   ]
  },
  {
   "cell_type": "markdown",
   "metadata": {
    "id": "tZv9r5FoYI0n"
   },
   "source": [
    "<hr>"
   ]
  },
  {
   "cell_type": "markdown",
   "metadata": {
    "id": "j3G2q17aYI0o"
   },
   "source": [
    "<h2 id=\"better\">A Better Way to Open a File</h2>"
   ]
  },
  {
   "cell_type": "markdown",
   "metadata": {
    "id": "-E93gRXQYI0o"
   },
   "source": [
    "Using the <code>with</code> statement is better practice, it automatically closes the file even if the code encounters an exception. The code will run everything in the indent block then close the file object. "
   ]
  },
  {
   "cell_type": "code",
   "execution_count": 17,
   "metadata": {
    "colab": {
     "base_uri": "https://localhost:8080/"
    },
    "executionInfo": {
     "elapsed": 503,
     "status": "ok",
     "timestamp": 1676339238581,
     "user": {
      "displayName": "­류호경 | 기술경영전문대학원 기술경영학과 | 교수 | 한양대(서울)",
      "userId": "06914721657492309662"
     },
     "user_tz": -540
    },
    "id": "C51ZuarpYI0p",
    "outputId": "ecb09dad-2b35-4311-b32d-5667048cb38e"
   },
   "outputs": [
    {
     "name": "stdout",
     "output_type": "stream",
     "text": [
      "This is line 1\n",
      "This is line 2\n",
      "This is line 3\n"
     ]
    }
   ],
   "source": [
    "# Open file using with\n",
    "\n",
    "with open(example1, \"r\") as file1:\n",
    "    FileContent = file1.read()\n",
    "    print(FileContent)"
   ]
  },
  {
   "cell_type": "markdown",
   "metadata": {
    "id": "g0zYF3uKYI0r"
   },
   "source": [
    "The file object is closed, you can verify it by running the following cell:  "
   ]
  },
  {
   "cell_type": "code",
   "execution_count": 18,
   "metadata": {
    "colab": {
     "base_uri": "https://localhost:8080/"
    },
    "executionInfo": {
     "elapsed": 417,
     "status": "ok",
     "timestamp": 1676339273668,
     "user": {
      "displayName": "­류호경 | 기술경영전문대학원 기술경영학과 | 교수 | 한양대(서울)",
      "userId": "06914721657492309662"
     },
     "user_tz": -540
    },
    "id": "JemmW1YvYI0r",
    "outputId": "fee6d027-98ea-4634-eb3e-150807a5adb4"
   },
   "outputs": [
    {
     "data": {
      "text/plain": [
       "True"
      ]
     },
     "execution_count": 18,
     "metadata": {},
     "output_type": "execute_result"
    }
   ],
   "source": [
    "# Verify if the file is closed\n",
    "\n",
    "file1.closed"
   ]
  },
  {
   "cell_type": "markdown",
   "metadata": {
    "id": "itgNZE4DYI0t"
   },
   "source": [
    " We can see the info in the file:"
   ]
  },
  {
   "cell_type": "code",
   "execution_count": 19,
   "metadata": {
    "colab": {
     "base_uri": "https://localhost:8080/"
    },
    "executionInfo": {
     "elapsed": 652,
     "status": "ok",
     "timestamp": 1676339282517,
     "user": {
      "displayName": "­류호경 | 기술경영전문대학원 기술경영학과 | 교수 | 한양대(서울)",
      "userId": "06914721657492309662"
     },
     "user_tz": -540
    },
    "id": "0ohNCnLxYI0v",
    "outputId": "797b9df5-ad1f-42a8-c115-7220068698dd"
   },
   "outputs": [
    {
     "name": "stdout",
     "output_type": "stream",
     "text": [
      "This is line 1\n",
      "This is line 2\n",
      "This is line 3\n"
     ]
    }
   ],
   "source": [
    "# See the content of file\n",
    "\n",
    "print(FileContent)"
   ]
  },
  {
   "cell_type": "markdown",
   "metadata": {
    "id": "y6LICnjuYI0x"
   },
   "source": [
    "The syntax is a little confusing as the file object is after the <code>as</code> statement. We also don’t explicitly close the file. Therefore we summarize the steps in a figure:"
   ]
  },
  {
   "cell_type": "markdown",
   "metadata": {
    "id": "DBwIeti9YI0y"
   },
   "source": [
    "<img src=\"https://s3-api.us-geo.objectstorage.softlayer.net/cf-courses-data/CognitiveClass/PY0101EN/Chapter%204/Images/ReadWith.png\" width=\"500\" />"
   ]
  },
  {
   "cell_type": "markdown",
   "metadata": {
    "id": "YPga3c5MYI0y"
   },
   "source": [
    "We don’t have to read the entire file, for example, we can read the first 4 characters by entering three as a parameter to the method **.read()**:\n"
   ]
  },
  {
   "cell_type": "code",
   "execution_count": 20,
   "metadata": {
    "colab": {
     "base_uri": "https://localhost:8080/"
    },
    "executionInfo": {
     "elapsed": 645,
     "status": "ok",
     "timestamp": 1676339326825,
     "user": {
      "displayName": "­류호경 | 기술경영전문대학원 기술경영학과 | 교수 | 한양대(서울)",
      "userId": "06914721657492309662"
     },
     "user_tz": -540
    },
    "id": "ezc4FOeOYI0z",
    "outputId": "4206978c-a8fe-4e2b-d3c8-bd9e35c32776"
   },
   "outputs": [
    {
     "name": "stdout",
     "output_type": "stream",
     "text": [
      "This\n"
     ]
    }
   ],
   "source": [
    "# Read first four characters\n",
    "\n",
    "with open(example1, \"r\") as file1:\n",
    "    print(file1.read(4))"
   ]
  },
  {
   "cell_type": "markdown",
   "metadata": {
    "id": "WNfen-djYI01"
   },
   "source": [
    "Once the method <code>.read(4)</code> is called the first 4 characters are called. If we call the method again, the next 4 characters are called. The output for the following cell will demonstrate the process for different inputs to the method <code>read()</code>:"
   ]
  },
  {
   "cell_type": "code",
   "execution_count": 21,
   "metadata": {
    "colab": {
     "base_uri": "https://localhost:8080/"
    },
    "executionInfo": {
     "elapsed": 400,
     "status": "ok",
     "timestamp": 1676339337402,
     "user": {
      "displayName": "­류호경 | 기술경영전문대학원 기술경영학과 | 교수 | 한양대(서울)",
      "userId": "06914721657492309662"
     },
     "user_tz": -540
    },
    "id": "WVpo44aPYI02",
    "outputId": "0d3470f8-03b9-4c6b-c733-f71a5862f138"
   },
   "outputs": [
    {
     "name": "stdout",
     "output_type": "stream",
     "text": [
      "This\n",
      " is \n",
      "line 1\n",
      "\n",
      "This is line 2\n",
      "\n"
     ]
    }
   ],
   "source": [
    "# Read certain amount of characters\n",
    "\n",
    "with open(example1, \"r\") as file1:\n",
    "    print(file1.read(4))\n",
    "    print(file1.read(4))\n",
    "    print(file1.read(7))\n",
    "    print(file1.read(15))"
   ]
  },
  {
   "cell_type": "markdown",
   "metadata": {
    "id": "FI5iZtGjYI04"
   },
   "source": [
    "The process is illustrated in the below figure, and each color represents the part of the file read after the method <code>read()</code> is called:"
   ]
  },
  {
   "cell_type": "markdown",
   "metadata": {
    "id": "s408n8XzYI04"
   },
   "source": [
    "<img src=\"https://s3-api.us-geo.objectstorage.softlayer.net/cf-courses-data/CognitiveClass/PY0101EN/Chapter%204/Images/ReadChar.png\" width=\"500\" />"
   ]
  },
  {
   "cell_type": "markdown",
   "metadata": {
    "id": "vpllhCzAYI05"
   },
   "source": [
    " Here is an example using the same file, but instead we read 16, 5, and then 9 characters at a time: "
   ]
  },
  {
   "cell_type": "code",
   "execution_count": 22,
   "metadata": {
    "colab": {
     "base_uri": "https://localhost:8080/"
    },
    "executionInfo": {
     "elapsed": 2,
     "status": "ok",
     "timestamp": 1676339352390,
     "user": {
      "displayName": "­류호경 | 기술경영전문대학원 기술경영학과 | 교수 | 한양대(서울)",
      "userId": "06914721657492309662"
     },
     "user_tz": -540
    },
    "id": "-PHG33WRYI05",
    "outputId": "cf63b4a8-f5ea-484c-b962-f2b5befc8bd9"
   },
   "outputs": [
    {
     "name": "stdout",
     "output_type": "stream",
     "text": [
      "This is line 1\n",
      "T\n",
      "his i\n",
      "s line 2\n",
      "\n"
     ]
    }
   ],
   "source": [
    "# Read certain amount of characters\n",
    "\n",
    "with open(example1, \"r\") as file1:\n",
    "    print(file1.read(16))\n",
    "    print(file1.read(5))\n",
    "    print(file1.read(9))"
   ]
  },
  {
   "cell_type": "markdown",
   "metadata": {
    "id": "BxtnGQw5YI07"
   },
   "source": [
    "We can also read one line of the file at a time using the method <code>readline()</code>: "
   ]
  },
  {
   "cell_type": "code",
   "execution_count": 23,
   "metadata": {
    "colab": {
     "base_uri": "https://localhost:8080/"
    },
    "executionInfo": {
     "elapsed": 642,
     "status": "ok",
     "timestamp": 1676339424343,
     "user": {
      "displayName": "­류호경 | 기술경영전문대학원 기술경영학과 | 교수 | 한양대(서울)",
      "userId": "06914721657492309662"
     },
     "user_tz": -540
    },
    "id": "6sAU9-cZYI07",
    "outputId": "5dcdd71e-a040-462c-f7f4-405b9aea6680"
   },
   "outputs": [
    {
     "name": "stdout",
     "output_type": "stream",
     "text": [
      "first line: This is line 1\n",
      "\n",
      "second line: This is line 2\n",
      "\n",
      "third line: This is line 3\n"
     ]
    }
   ],
   "source": [
    "# Read one line\n",
    "\n",
    "with open(example1, \"r\") as file1:\n",
    "    print(\"first line: \" + file1.readline())\n",
    "    print(\"second line: \" + file1.readline())\n",
    "    print(\"third line: \" + file1.readline())"
   ]
  },
  {
   "cell_type": "markdown",
   "metadata": {
    "id": "ciZWHvuqYI0-"
   },
   "source": [
    " We can use a loop to iterate through each line: \n"
   ]
  },
  {
   "cell_type": "code",
   "execution_count": 24,
   "metadata": {
    "colab": {
     "base_uri": "https://localhost:8080/"
    },
    "executionInfo": {
     "elapsed": 507,
     "status": "ok",
     "timestamp": 1676339453008,
     "user": {
      "displayName": "­류호경 | 기술경영전문대학원 기술경영학과 | 교수 | 한양대(서울)",
      "userId": "06914721657492309662"
     },
     "user_tz": -540
    },
    "id": "icC5CUvgYI0-",
    "outputId": "f484dcd9-896d-4c51-ae26-c2878b9a061e"
   },
   "outputs": [
    {
     "name": "stdout",
     "output_type": "stream",
     "text": [
      "Iteration 0 :  This is line 1\n",
      "\n",
      "Iteration 1 :  This is line 2\n",
      "\n",
      "Iteration 2 :  This is line 3\n"
     ]
    }
   ],
   "source": [
    "# Iterate through the lines\n",
    "\n",
    "with open(example1,\"r\") as file1:\n",
    "        i = 0;\n",
    "        for line in file1:\n",
    "            print(\"Iteration\", str(i), \": \", line)\n",
    "            i = i + 1;"
   ]
  },
  {
   "cell_type": "markdown",
   "metadata": {
    "id": "bCK6A5QcYI1A"
   },
   "source": [
    "We can use the method <code>readlines()</code> to save the text file to a list: "
   ]
  },
  {
   "cell_type": "code",
   "execution_count": 25,
   "metadata": {
    "executionInfo": {
     "elapsed": 419,
     "status": "ok",
     "timestamp": 1676339503845,
     "user": {
      "displayName": "­류호경 | 기술경영전문대학원 기술경영학과 | 교수 | 한양대(서울)",
      "userId": "06914721657492309662"
     },
     "user_tz": -540
    },
    "id": "5sw7At23YI1A"
   },
   "outputs": [],
   "source": [
    "# Read all lines and save as a list --> 자주 사용함 \n",
    "\n",
    "with open(example1, \"r\") as file1:\n",
    "    FileasList = file1.readlines()"
   ]
  },
  {
   "cell_type": "markdown",
   "metadata": {
    "id": "UiI91YFxYI1D"
   },
   "source": [
    " Each element of the list corresponds to a line of text:"
   ]
  },
  {
   "cell_type": "code",
   "execution_count": 26,
   "metadata": {
    "colab": {
     "base_uri": "https://localhost:8080/",
     "height": 35
    },
    "executionInfo": {
     "elapsed": 398,
     "status": "ok",
     "timestamp": 1676339536401,
     "user": {
      "displayName": "­류호경 | 기술경영전문대학원 기술경영학과 | 교수 | 한양대(서울)",
      "userId": "06914721657492309662"
     },
     "user_tz": -540
    },
    "id": "06c1c6K0YI1D",
    "outputId": "95f79d12-1d02-4a8e-9163-235f8c43a569"
   },
   "outputs": [
    {
     "data": {
      "text/plain": [
       "'This is line 1\\n'"
      ]
     },
     "execution_count": 26,
     "metadata": {},
     "output_type": "execute_result"
    }
   ],
   "source": [
    "# Print the first line\n",
    "\n",
    "FileasList[0]"
   ]
  },
  {
   "cell_type": "code",
   "execution_count": 27,
   "metadata": {
    "colab": {
     "base_uri": "https://localhost:8080/",
     "height": 35
    },
    "executionInfo": {
     "elapsed": 527,
     "status": "ok",
     "timestamp": 1676339539200,
     "user": {
      "displayName": "­류호경 | 기술경영전문대학원 기술경영학과 | 교수 | 한양대(서울)",
      "userId": "06914721657492309662"
     },
     "user_tz": -540
    },
    "id": "0H4Pw_LXYI1G",
    "outputId": "9fc644cc-ae6e-45e2-8bcb-7a38bf9f89aa"
   },
   "outputs": [
    {
     "data": {
      "text/plain": [
       "'This is line 2\\n'"
      ]
     },
     "execution_count": 27,
     "metadata": {},
     "output_type": "execute_result"
    }
   ],
   "source": [
    "# Print the second line\n",
    "\n",
    "FileasList[1]"
   ]
  },
  {
   "cell_type": "code",
   "execution_count": 28,
   "metadata": {
    "colab": {
     "base_uri": "https://localhost:8080/",
     "height": 35
    },
    "executionInfo": {
     "elapsed": 433,
     "status": "ok",
     "timestamp": 1676339541878,
     "user": {
      "displayName": "­류호경 | 기술경영전문대학원 기술경영학과 | 교수 | 한양대(서울)",
      "userId": "06914721657492309662"
     },
     "user_tz": -540
    },
    "id": "TxBaR_CuYI1I",
    "outputId": "a4c51b01-4b65-4d35-a4ff-43fb0f479380"
   },
   "outputs": [
    {
     "data": {
      "text/plain": [
       "'This is line 3'"
      ]
     },
     "execution_count": 28,
     "metadata": {},
     "output_type": "execute_result"
    }
   ],
   "source": [
    "# Print the third line\n",
    "\n",
    "FileasList[2]"
   ]
  },
  {
   "cell_type": "code",
   "execution_count": 30,
   "metadata": {
    "colab": {
     "base_uri": "https://localhost:8080/",
     "height": 35
    },
    "executionInfo": {
     "elapsed": 405,
     "status": "ok",
     "timestamp": 1676339553748,
     "user": {
      "displayName": "­류호경 | 기술경영전문대학원 기술경영학과 | 교수 | 한양대(서울)",
      "userId": "06914721657492309662"
     },
     "user_tz": -540
    },
    "id": "Hlrlyf2Ln4I_",
    "outputId": "30b8224c-46fc-4a58-e7f6-11b252b9c97e"
   },
   "outputs": [
    {
     "data": {
      "text/plain": [
       "'This is line 2\\n'"
      ]
     },
     "execution_count": 30,
     "metadata": {},
     "output_type": "execute_result"
    }
   ],
   "source": [
    "FileasList[1]"
   ]
  },
  {
   "cell_type": "code",
   "execution_count": 31,
   "metadata": {
    "colab": {
     "base_uri": "https://localhost:8080/",
     "height": 35
    },
    "executionInfo": {
     "elapsed": 1442,
     "status": "ok",
     "timestamp": 1676339564066,
     "user": {
      "displayName": "­류호경 | 기술경영전문대학원 기술경영학과 | 교수 | 한양대(서울)",
      "userId": "06914721657492309662"
     },
     "user_tz": -540
    },
    "id": "NiyuD32Tn66I",
    "outputId": "bc7e0ae7-96f8-446b-b9f3-0309ebe2c652"
   },
   "outputs": [
    {
     "data": {
      "text/plain": [
       "'This is line 1\\n'"
      ]
     },
     "execution_count": 31,
     "metadata": {},
     "output_type": "execute_result"
    }
   ],
   "source": [
    "FileasList[0]"
   ]
  },
  {
   "cell_type": "markdown",
   "metadata": {
    "id": "UIdkEl0PYI1K"
   },
   "source": [
    "<hr>\n",
    "<h2>The last exercise!</h2>\n",
    "<p>Congratulations, you have completed your first lesson and hands-on lab in Python. However, there is one more thing you need to do. The Data Science community encourages sharing work. The best way to share and showcase your work is to share it on GitHub. By sharing your notebook on GitHub you are not only building your reputation with fellow data scientists, but you can also show it off when applying for a job. Even though this was your first piece of work, it is never too early to start building good habits. Please submit all your exercises to Github & let the traces in our LMS, so for me to access your work\n",
    "<hr>"
   ]
  },
  {
   "cell_type": "markdown",
   "metadata": {
    "id": "HgizhkYtYI1L"
   },
   "source": [
    "<hr>"
   ]
  },
  {
   "cell_type": "markdown",
   "metadata": {
    "id": "djcp5L_dYI1M"
   },
   "source": [
    "<p>Copyright &copy; 2023 RYU HOKYOUNG based on 2018 IBM Developer Skills Network. This notebook and its source code are released under the terms of the <a href=\"https://cognitiveclass.ai/mit-license/\">MIT License</a>.</p>"
   ]
  }
 ],
 "metadata": {
  "colab": {
   "provenance": []
  },
  "kernelspec": {
   "display_name": "Python 3 (ipykernel)",
   "language": "python",
   "name": "python3"
  },
  "language_info": {
   "codemirror_mode": {
    "name": "ipython",
    "version": 3
   },
   "file_extension": ".py",
   "mimetype": "text/x-python",
   "name": "python",
   "nbconvert_exporter": "python",
   "pygments_lexer": "ipython3",
   "version": "3.12.2"
  }
 },
 "nbformat": 4,
 "nbformat_minor": 4
}
