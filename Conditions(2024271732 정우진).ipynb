{
 "cells": [
  {
   "cell_type": "markdown",
   "metadata": {
    "id": "mlC9YPnZIoPG"
   },
   "source": [
    "<h1>Conditions in Python</h1>"
   ]
  },
  {
   "cell_type": "markdown",
   "metadata": {
    "id": "HGz4iyQ-IoPH"
   },
   "source": [
    "<p><strong>Welcome!</strong> This notebook will teach you about the condition statements in the Python Programming Language. By the end of this lab, you'll know how to use the condition statements in Python, including operators, and branching.</p>"
   ]
  },
  {
   "cell_type": "markdown",
   "metadata": {
    "id": "kg_LinQvIoPI"
   },
   "source": [
    "<h2 id=\"cond\">Condition Statements</h2>"
   ]
  },
  {
   "cell_type": "markdown",
   "metadata": {
    "id": "90nVu7YbIoPJ"
   },
   "source": [
    "<h3 id=\"comp\">Comparison Operators</h3>"
   ]
  },
  {
   "cell_type": "markdown",
   "metadata": {
    "id": "Vdhl3cQqIoPK"
   },
   "source": [
    "Comparison operations compare some value or operand and, based on a condition, they produce a Boolean. When comparing two values you can use these operators:\n",
    "\n",
    "<ul>\n",
    "    <li>equal: <b>==</b></li>\n",
    "    <li>not equal: <b>!=</b></li>\n",
    "    <li>greater than: <b>></b></li>\n",
    "    <li>less than: <b>&lt;</b></li>\n",
    "    <li>greater than or equal to: <b>>=</b></li>\n",
    "    <li>less than or equal to: <b>&lt;=</b></li>\n",
    "</ul>"
   ]
  },
  {
   "cell_type": "markdown",
   "metadata": {
    "id": "7b3dAOGqIoPK"
   },
   "source": [
    "Let's assign <code>a</code> a value of 5. Use the equality operator denoted with two equal <b>==</b> signs to determine if two values are equal. The case below compares the variable <code>a</code> with 6."
   ]
  },
  {
   "cell_type": "code",
   "execution_count": 1,
   "metadata": {
    "colab": {
     "base_uri": "https://localhost:8080/"
    },
    "id": "uuXKc1EfIoPL",
    "outputId": "7992ab54-18c3-40ba-b84f-8563fa4fdbcc"
   },
   "outputs": [
    {
     "data": {
      "text/plain": [
       "False"
      ]
     },
     "execution_count": 1,
     "metadata": {},
     "output_type": "execute_result"
    }
   ],
   "source": [
    "# Condition Equal\n",
    "\n",
    "a = 5\n",
    "a == 6 #a 가 6이니? "
   ]
  },
  {
   "cell_type": "markdown",
   "metadata": {
    "id": "ZZNAFPFNIoPO"
   },
   "source": [
    "The result is <b>False</b>, as 5 does not equal to 6."
   ]
  },
  {
   "cell_type": "markdown",
   "metadata": {
    "id": "3fqYFkp6IoPP"
   },
   "source": [
    "Consider the following equality comparison operator <code>i > 5</code>. If the value of the left operand, in this case the variable <b>i</b>, is greater than the value of the right operand, in this case 5, then the statement is <b>True</b>. Otherwise, the statement is <b>False</b>.  If <b>i</b> is equal to 6, because 6 is larger than 5, the output is <b>True</b>."
   ]
  },
  {
   "cell_type": "code",
   "execution_count": 2,
   "metadata": {
    "colab": {
     "base_uri": "https://localhost:8080/"
    },
    "id": "TtAj09goIoPP",
    "outputId": "bd87f44f-46c4-485d-8cba-6dd6d41863f3"
   },
   "outputs": [
    {
     "data": {
      "text/plain": [
       "False"
      ]
     },
     "execution_count": 2,
     "metadata": {},
     "output_type": "execute_result"
    }
   ],
   "source": [
    "# Greater than Sign\n",
    "\n",
    "i = 6\n",
    "i > 7"
   ]
  },
  {
   "cell_type": "markdown",
   "metadata": {
    "id": "ZDvy8mesIoPS"
   },
   "source": [
    "Set <code>i = 2</code>. The statement is false as 2 is not greater than 5:"
   ]
  },
  {
   "cell_type": "code",
   "execution_count": 3,
   "metadata": {
    "colab": {
     "base_uri": "https://localhost:8080/"
    },
    "id": "NpEf-Y2-IoPS",
    "outputId": "156435d9-27f9-45a2-8324-2c653f03cd35"
   },
   "outputs": [
    {
     "data": {
      "text/plain": [
       "False"
      ]
     },
     "execution_count": 3,
     "metadata": {},
     "output_type": "execute_result"
    }
   ],
   "source": [
    "# Greater than Sign\n",
    "\n",
    "i = 2\n",
    "i > 5"
   ]
  },
  {
   "cell_type": "markdown",
   "metadata": {
    "id": "n47h3IH-IoPW"
   },
   "source": [
    "The inequality test uses an exclamation mark preceding the equal sign, if two operands are not equal then the condition becomes **True**.  For example, the following condition will produce **True** as long as the value of <code>i</code> is not equal to 6:"
   ]
  },
  {
   "cell_type": "code",
   "execution_count": 4,
   "metadata": {
    "colab": {
     "base_uri": "https://localhost:8080/"
    },
    "id": "ovJjMKCRIoPW",
    "outputId": "d10a911f-ae2e-4203-d441-6205c57937bb"
   },
   "outputs": [
    {
     "data": {
      "text/plain": [
       "False"
      ]
     },
     "execution_count": 4,
     "metadata": {},
     "output_type": "execute_result"
    }
   ],
   "source": [
    "# Inequality Sign\n",
    "\n",
    "i = 2\n",
    "i != 2 #!= not equal to... "
   ]
  },
  {
   "cell_type": "markdown",
   "metadata": {
    "id": "3DNtATdQIoPZ"
   },
   "source": [
    "When <code>i</code> equals 6 the inequality expression produces <b>False</b>. "
   ]
  },
  {
   "cell_type": "code",
   "execution_count": 5,
   "metadata": {
    "colab": {
     "base_uri": "https://localhost:8080/"
    },
    "id": "-RY7Zu0uIoPa",
    "outputId": "ca8c26f2-ee3e-406e-ab95-78cb28e10cf4"
   },
   "outputs": [
    {
     "data": {
      "text/plain": [
       "False"
      ]
     },
     "execution_count": 5,
     "metadata": {},
     "output_type": "execute_result"
    }
   ],
   "source": [
    "# Inequality Sign\n",
    "\n",
    "i = 6\n",
    "i != 6"
   ]
  },
  {
   "cell_type": "markdown",
   "metadata": {
    "id": "5L7IjBFJIoPd"
   },
   "source": [
    " We can apply the same methods on strings. For example, use an equality operator on two different strings. As the strings are not equal, we get a **False**."
   ]
  },
  {
   "cell_type": "code",
   "execution_count": 6,
   "metadata": {
    "colab": {
     "base_uri": "https://localhost:8080/"
    },
    "id": "GNZmEuBbIoPd",
    "outputId": "f3dcdf07-c09f-494b-cd15-df13c5c851a6"
   },
   "outputs": [
    {
     "data": {
      "text/plain": [
       "False"
      ]
     },
     "execution_count": 6,
     "metadata": {},
     "output_type": "execute_result"
    }
   ],
   "source": [
    "# Use Equality sign to compare the strings\n",
    "\n",
    "\"ACDC\" == \"Michael Jackson\""
   ]
  },
  {
   "cell_type": "markdown",
   "metadata": {
    "id": "u8w_VwwVIoPf"
   },
   "source": [
    " If we use the inequality operator, the output is going to be **True** as the strings are not equal."
   ]
  },
  {
   "cell_type": "code",
   "execution_count": 7,
   "metadata": {
    "colab": {
     "base_uri": "https://localhost:8080/"
    },
    "id": "IcqKREUoIoPg",
    "outputId": "54f88ae9-fa5a-4b33-bbaa-308f870c4619"
   },
   "outputs": [
    {
     "data": {
      "text/plain": [
       "True"
      ]
     },
     "execution_count": 7,
     "metadata": {},
     "output_type": "execute_result"
    }
   ],
   "source": [
    "# Use Inequality sign to compare the strings\n",
    "\n",
    "\"ACDC\" != \"Michael Jackson\""
   ]
  },
  {
   "cell_type": "markdown",
   "metadata": {
    "id": "h1dR9SqEIoPp"
   },
   "source": [
    "<h3 id=\"branch\">Branching</h3>"
   ]
  },
  {
   "cell_type": "markdown",
   "metadata": {
    "id": "neEzbDDgIoPp"
   },
   "source": [
    " Branching allows us to run different statements for different inputs. It is helpful to think of an **if statement** as a locked room, if the statement is **True** we can enter the room and your program will run some predefined tasks, but if the statement is **False** the program will ignore the task.\n"
   ]
  },
  {
   "cell_type": "markdown",
   "metadata": {
    "id": "-zv72ejvIoPq"
   },
   "source": [
    "For example, consider the blue rectangle representing an ACDC concert. If the individual is older than 18, they can enter the ACDC concert. If they are 18 or younger than 18 they cannot enter the concert.\n",
    "\n",
    "Use the condition statements learned before as the conditions need to be checked in the **if statement**. The syntax is as simple as <code> if <i>condition statement</i> :</code>, which contains a word <code>if</code>, any condition statement, and a colon at the end. Start your tasks which need to be executed under this condition in a new line with an indent. The lines of code after the colon and with an indent will only be executed when the **if statement** is **True**. The tasks will end when the line of code does not contain the indent.\n",
    "\n",
    "In the case below, the tasks executed <code>print(“you can enter”)</code> only occurs if the variable <code>age</code> is greater than 18 is a True case because this line of code has the indent. However, the execution of <code>print(“move on”)</code> will not be influenced by the if statement."
   ]
  },
  {
   "cell_type": "code",
   "execution_count": 8,
   "metadata": {
    "colab": {
     "base_uri": "https://localhost:8080/"
    },
    "id": "gaBCeNtnIoPq",
    "outputId": "ea61afc0-5996-44e0-eb6c-790a138287d4"
   },
   "outputs": [
    {
     "name": "stdout",
     "output_type": "stream",
     "text": [
      "Prohibited\n",
      "okay\n"
     ]
    }
   ],
   "source": [
    "# If statement example\n",
    "\n",
    "age = 17\n",
    "\n",
    "#expression that can be true or false\n",
    "if age > 18:\n",
    "    #within an indent, we have the expression that is run if the condition is true\n",
    "  print(\"you can enter\" )\n",
    "else:\n",
    "  print(\"Prohibited\")  \n",
    "  print(\"okay\")\n",
    "\n",
    "#The statements after the if statement will run regardless if the condition is true or false \n",
    "#print(\"move on\")"
   ]
  },
  {
   "cell_type": "markdown",
   "metadata": {
    "id": "QkynTkwpIoPs"
   },
   "source": [
    "<i>Try uncommenting the age variable</i>"
   ]
  },
  {
   "cell_type": "markdown",
   "metadata": {
    "id": "NAGlwGoHIoPt"
   },
   "source": [
    "It is helpful to use the following diagram to illustrate the process. On the left side, we see what happens when the condition is <b>True</b>.  The person enters the ACDC concert representing the code in the indent being executed; they then move on. On the right side, we see what happens when the condition is <b>False</b>; the person is not granted access, and the person moves on. In this case, the segment of code in the indent does not run, but the rest of the statements are run. "
   ]
  },
  {
   "cell_type": "markdown",
   "metadata": {
    "id": "_6DZ7WYYIoPt"
   },
   "source": [
    "<img src=\"https://s3-api.us-geo.objectstorage.softlayer.net/cf-courses-data/CognitiveClass/PY0101EN/Chapter%203/Images/CondsIf.gif\" width=\"650\" />"
   ]
  },
  {
   "cell_type": "markdown",
   "metadata": {
    "id": "WraB9wQfIoPu"
   },
   "source": [
    "The <code>else</code> statement runs a block of code if none of the conditions are **True** before this <code>else</code> statement. Let's use the ACDC concert analogy again. If the user is 17 they cannot go to the ACDC concert,  but they can go to the Meatloaf concert.\n",
    "The syntax of the <code>else</code> statement is similar as the syntax of the <code>if</code> statement, as <code>else :</code>. Notice that, there is no condition statement for <code>else</code>.\n",
    "Try changing the values of <code>age</code> to see what happens:  "
   ]
  },
  {
   "cell_type": "code",
   "execution_count": 10,
   "metadata": {
    "colab": {
     "base_uri": "https://localhost:8080/"
    },
    "id": "PHEjYU-7IoPu",
    "outputId": "5e6fc1ad-8e75-4974-e2e7-118c20cf876d"
   },
   "outputs": [
    {
     "name": "stdout",
     "output_type": "stream",
     "text": [
      "you can enter\n",
      "move on\n"
     ]
    }
   ],
   "source": [
    "# Else statement example\n",
    "\n",
    "age = 18\n",
    "age = 19\n",
    "\n",
    "if age > 18:\n",
    "  print(\"you can enter\" )\n",
    "else:\n",
    "  print(\"go see Meat Loaf\" )\n",
    "    \n",
    "print(\"move on\")"
   ]
  },
  {
   "cell_type": "markdown",
   "metadata": {
    "id": "KE-SjhalIoPy"
   },
   "source": [
    "The process is demonstrated below, where each of the possibilities is illustrated on each side of the image. On the left is the case where the age is 17, we set the variable age to 17, and this corresponds to the individual attending the Meatloaf concert. The right portion shows what happens when the individual is over 18, in this case 19, and the individual is granted access to the concert."
   ]
  },
  {
   "cell_type": "markdown",
   "metadata": {
    "id": "0ZNyOAHtIoPz"
   },
   "source": [
    "<img src=\"https://s3-api.us-geo.objectstorage.softlayer.net/cf-courses-data/CognitiveClass/PY0101EN/Chapter%203/Images/CondsElse.gif\" width=\"650\" />"
   ]
  },
  {
   "cell_type": "markdown",
   "metadata": {
    "id": "lpbaOVF7IoP0"
   },
   "source": [
    "The <code>elif</code> statement, short for else if, allows us to check additional conditions if the condition statements before it are <b>False</b>. If the condition for the <code>elif</code> statement is <b>True</b>, the alternate expressions will be run. Consider the concert example, where if the individual is 18 they will go to the Pink Floyd concert instead of attending the ACDC or Meat-loaf concert. The person of 18 years of age enters the area, and as they are not older than 18 they can not see ACDC, but as they are 18 years of age, they attend  Pink Floyd. After seeing Pink Floyd, they move on. The syntax of the <code>elif</code> statement is similar in that we merely change the <code>if</code> in <code>if</code> statement to <code>elif</code>."
   ]
  },
  {
   "cell_type": "code",
   "execution_count": 12,
   "metadata": {
    "colab": {
     "base_uri": "https://localhost:8080/"
    },
    "id": "GX1L_xvJIoP0",
    "outputId": "6823873f-ff77-4d23-9a83-d7be684356a8"
   },
   "outputs": [
    {
     "name": "stdout",
     "output_type": "stream",
     "text": [
      "go see Pink Floyd\n"
     ]
    }
   ],
   "source": [
    "# Elif statment example\n",
    "\n",
    "age = 18\n",
    "\n",
    "if age > 18:\n",
    "    print(\"you can enter\" )\n",
    "elif age == 18: #else if \n",
    "    print(\"go see Pink Floyd\")\n",
    "elif age == 0:\n",
    "    print(\"this kid cannot leave home\") \n",
    "else:\n",
    "    print(\"go see Meat Loaf\" )\n",
    "    \n",
    "#print(\"move on\")"
   ]
  },
  {
   "cell_type": "markdown",
   "metadata": {
    "id": "PynP2kn6IoP2"
   },
   "source": [
    "The three combinations are shown in the figure below.  The left-most region shows what happens when the individual is less than 18 years of age. The central component shows when the individual is exactly 18. The rightmost shows when the individual is over 18."
   ]
  },
  {
   "cell_type": "markdown",
   "metadata": {
    "id": "HtR5S194IoP3"
   },
   "source": [
    "<img src =\"https://s3-api.us-geo.objectstorage.softlayer.net/cf-courses-data/CognitiveClass/PY0101EN/Chapter%203/Images/CondsElif.gif\" width=\"650\" />"
   ]
  },
  {
   "cell_type": "markdown",
   "metadata": {
    "id": "1Nq4-TJrIoP3"
   },
   "source": [
    " Look at the following code:\n"
   ]
  },
  {
   "cell_type": "code",
   "execution_count": 13,
   "metadata": {
    "colab": {
     "base_uri": "https://localhost:8080/"
    },
    "id": "JEuKxd_lIoP3",
    "outputId": "f0516fb7-93ba-4e3f-c7b0-ded06a5b114f"
   },
   "outputs": [
    {
     "name": "stdout",
     "output_type": "stream",
     "text": [
      "Album year is greater than 1980\n"
     ]
    }
   ],
   "source": [
    "# Condition statement example\n",
    "\n",
    "album_year = 1983\n",
    "\n",
    "if album_year > 1980:\n",
    "    print(\"Album year is greater than 1980\")\n",
    "    \n",
    "#print('do something..')"
   ]
  },
  {
   "cell_type": "markdown",
   "metadata": {
    "id": "DxMkvtEUIoP5"
   },
   "source": [
    "Feel free to change <code>album_year</code> value to other values -- you'll see that the result changes!"
   ]
  },
  {
   "cell_type": "markdown",
   "metadata": {
    "id": "FShiGAhPIoP6"
   },
   "source": [
    "Notice that the code in the above <b>indented</b> block will only be executed if the results are <b>True</b>. "
   ]
  },
  {
   "cell_type": "markdown",
   "metadata": {
    "id": "HprkmqzHIoP6"
   },
   "source": [
    "As before, we can add an <code>else</code> block to the <code>if</code> block. The code in the <code>else</code> block will only be executed if the result is <b>False</b>.\n",
    "\n",
    "\n",
    "<b>Syntax:</b> \n",
    "\n",
    "if (condition):\n",
    "    # do something\n",
    "else:\n",
    "    # do something else"
   ]
  },
  {
   "cell_type": "markdown",
   "metadata": {
    "id": "F9DtUV5-IoP6"
   },
   "source": [
    "If the condition in the <code>if</code> statement is <b>False</b>, the statement after the <code>else</code> block will execute. This is demonstrated in the figure: "
   ]
  },
  {
   "cell_type": "markdown",
   "metadata": {
    "id": "U0xA7PWHIoP7"
   },
   "source": [
    "<img src=\"https://s3-api.us-geo.objectstorage.softlayer.net/cf-courses-data/CognitiveClass/PY0101EN/Chapter%203/Images/CondsLogicMap.png\" width=\"650\" />"
   ]
  },
  {
   "cell_type": "code",
   "execution_count": 15,
   "metadata": {
    "colab": {
     "base_uri": "https://localhost:8080/"
    },
    "id": "PlSWHoG8IoP7",
    "outputId": "8e06df4b-10e1-44af-b5d4-caba22afc5da"
   },
   "outputs": [
    {
     "name": "stdout",
     "output_type": "stream",
     "text": [
      "less than 1980\n",
      "do something..\n"
     ]
    }
   ],
   "source": [
    "# Condition statement example\n",
    "\n",
    "album_year = 1983\n",
    "album_year = 1970\n",
    "\n",
    "if album_year > 1980:\n",
    "    print(\"Album year is greater than 1980\")\n",
    "else:\n",
    "    print(\"less than 1980\")\n",
    "\n",
    "print('do something..')"
   ]
  },
  {
   "cell_type": "markdown",
   "metadata": {
    "id": "pKh_PSz6IoP9"
   },
   "source": [
    "Feel free to change the <code>album_year</code> value to other values -- you'll see that the result changes based on it!"
   ]
  },
  {
   "cell_type": "markdown",
   "metadata": {
    "id": "RCcARcwWIoP-"
   },
   "source": [
    "<h3 id=\"logic\">Logical operators</h3>"
   ]
  },
  {
   "cell_type": "markdown",
   "metadata": {
    "id": "znQ8jLBdIoP-"
   },
   "source": [
    "\n",
    "Sometimes you want to check more than one condition at once. For example, you might want to check if one condition and another condition is **True**. Logical operators allow you to combine or modify conditions.\n",
    "<ul>\n",
    "    <li><code>and</code></li>\n",
    "    <li><code>or</code></li>\n",
    "    <li><code>not</code></li>\n",
    "</ul>\n",
    "\n",
    "These operators are summarized for two variables using the following truth tables:  "
   ]
  },
  {
   "cell_type": "markdown",
   "metadata": {
    "id": "rq0NakFsIoP-"
   },
   "source": [
    "<img src=\"https://s3-api.us-geo.objectstorage.softlayer.net/cf-courses-data/CognitiveClass/PY0101EN/Chapter%203/Images/CondsTable.png\" width=\"650\" />"
   ]
  },
  {
   "cell_type": "markdown",
   "metadata": {
    "id": "_7F9Yt4nIoP_"
   },
   "source": [
    "The <code>and</code> statement is only **True** when both conditions are true. The <code>or</code> statement is true if one condition is **True**. The <code>not</code> statement outputs the opposite truth value."
   ]
  },
  {
   "cell_type": "markdown",
   "metadata": {
    "id": "C-WRA30_IoP_"
   },
   "source": [
    "Let's see how to determine if an album was released after 1979 (1979 is not included) and before 1990 (1990 is not included). The time periods between 1980 and 1989 satisfy this condition. This is demonstrated in the figure below. The green on lines <strong>a</strong> and <strong>b</strong> represents periods where the statement is **True**. The green on line <strong>c</strong> represents where both conditions are **True**, this corresponds to where the green regions overlap. \n",
    "\n"
   ]
  },
  {
   "cell_type": "markdown",
   "metadata": {
    "id": "UcTkI5OcIoQA"
   },
   "source": [
    "<img src=\"https://s3-api.us-geo.objectstorage.softlayer.net/cf-courses-data/CognitiveClass/PY0101EN/Chapter%203/Images/CondsEgOne.png\" width=\"650\" />"
   ]
  },
  {
   "cell_type": "markdown",
   "metadata": {
    "id": "ptVFiZ7pIoQB"
   },
   "source": [
    " The block of code to perform this check is given by:"
   ]
  },
  {
   "cell_type": "code",
   "execution_count": 16,
   "metadata": {
    "colab": {
     "base_uri": "https://localhost:8080/"
    },
    "id": "DxdbvEEwIoQC",
    "outputId": "13a2d191-f7d6-4a36-ddc5-8316c159d34b"
   },
   "outputs": [
    {
     "name": "stdout",
     "output_type": "stream",
     "text": [
      "this is not the case\n"
     ]
    }
   ],
   "source": [
    "# Condition statement example\n",
    "\n",
    "album_year = 1991\n",
    "\n",
    "if(album_year > 1979) and (album_year < 1990):\n",
    "    print (\"Album year was in between 1980 and 1989\")   \n",
    "else:\n",
    "    print(\"this is not the case\")"
   ]
  },
  {
   "cell_type": "markdown",
   "metadata": {
    "id": "dsdLz0zBIoQE"
   },
   "source": [
    "To determine if an album was released before 1980 (~ - 1979) or after 1989 (1990 - ~), an **or** statement can be used. Periods before 1980 (~ - 1979) or after 1989 (1990 - ~) satisfy this condition. This is demonstrated in the following figure, the color green in <strong>a</strong> and <strong>b</strong> represents periods where the statement is true. The color green in **c** represents where at least one of the conditions \n",
    "are true.  \n"
   ]
  },
  {
   "cell_type": "markdown",
   "metadata": {
    "id": "oQHDf35NIoQF"
   },
   "source": [
    "<img src=\"https://s3-api.us-geo.objectstorage.softlayer.net/cf-courses-data/CognitiveClass/PY0101EN/Chapter%203/Images/CondsEgTwo.png\" width=\"650\" />"
   ]
  },
  {
   "cell_type": "markdown",
   "metadata": {
    "id": "uv16VvYUIoQF"
   },
   "source": [
    "The block of code to perform this check is given by:"
   ]
  },
  {
   "cell_type": "code",
   "execution_count": 17,
   "metadata": {
    "colab": {
     "base_uri": "https://localhost:8080/"
    },
    "id": "WX2I0sk6IoQF",
    "outputId": "372e399c-4804-429a-f82c-a38acb7aca5f"
   },
   "outputs": [
    {
     "name": "stdout",
     "output_type": "stream",
     "text": [
      "The Album was made in the 1980's \n"
     ]
    }
   ],
   "source": [
    "# Condition statement example\n",
    "\n",
    "album_year = 1980\n",
    "\n",
    "if(album_year < 1980) or (album_year > 1989):\n",
    "    print (\"Album was not made in the 1980's\")\n",
    "else:\n",
    "    print(\"The Album was made in the 1980's \")"
   ]
  },
  {
   "cell_type": "markdown",
   "metadata": {
    "id": "dCrukLvGIoQH"
   },
   "source": [
    "The <code>not</code> statement checks if the statement is false:"
   ]
  },
  {
   "cell_type": "code",
   "execution_count": 18,
   "metadata": {
    "colab": {
     "base_uri": "https://localhost:8080/"
    },
    "id": "156Qj93IIoQI",
    "outputId": "e65710a8-78fa-4877-8159-b42e081267a6"
   },
   "outputs": [
    {
     "name": "stdout",
     "output_type": "stream",
     "text": [
      "Album year is not 1984\n"
     ]
    }
   ],
   "source": [
    "# Condition statement example\n",
    "\n",
    "album_year = 1983\n",
    "\n",
    "if not (album_year == '1984'):\n",
    "    print (\"Album year is not 1984\")"
   ]
  },
  {
   "cell_type": "markdown",
   "metadata": {
    "id": "gGxL-OyzIoQJ"
   },
   "source": [
    "<hr>"
   ]
  },
  {
   "cell_type": "markdown",
   "metadata": {
    "id": "3IC26T7bIoQK"
   },
   "source": [
    "<h2 id=\"quiz\">Quiz on Conditions</h2>"
   ]
  },
  {
   "cell_type": "markdown",
   "metadata": {
    "id": "mt0VcGaoIoQK"
   },
   "source": [
    "Write an if statement to determine if an album had a rating greater than 8. Test it using the rating for the album <b>“Back in Black”</b> that had a rating of 8.5. If the statement is true print \"This album is Amazing!\""
   ]
  },
  {
   "cell_type": "code",
   "execution_count": 19,
   "metadata": {
    "id": "uM3HRp4iIoQK",
    "outputId": "e8c776bd-00ae-4fe7-ab48-aacfaaa1b6c3"
   },
   "outputs": [
    {
     "name": "stdout",
     "output_type": "stream",
     "text": [
      "This album is Amazing!\n"
     ]
    }
   ],
   "source": [
    "# Write your code below and press Shift+Enter to execute\n",
    "rating = 8.5\n",
    "if rating > 8.0:\n",
    "    print('This album is Amazing!')"
   ]
  },
  {
   "cell_type": "markdown",
   "metadata": {
    "id": "2qou3rDyIoQN"
   },
   "source": [
    "Double-click __here__ for the solution.\n",
    "\n",
    "<!-- \n",
    "rating = 8.5\n",
    "if rating > 8:\n",
    "    print (\"This album is Amazing!\")\n",
    " -->"
   ]
  },
  {
   "cell_type": "markdown",
   "metadata": {
    "id": "ZNLbLpM8IoQO"
   },
   "source": [
    "<hr>"
   ]
  },
  {
   "cell_type": "markdown",
   "metadata": {
    "id": "PtR5F1i3IoQO"
   },
   "source": [
    "Write an if-else statement that performs the following. If the rating is larger then eight print “this album is amazing”. If the rating is less than or equal to 8 print “this album is ok”."
   ]
  },
  {
   "cell_type": "code",
   "execution_count": 22,
   "metadata": {
    "id": "s4NbZlNLIoQO",
    "outputId": "798bff22-e744-4d63-d211-9c849c529e78"
   },
   "outputs": [
    {
     "name": "stdout",
     "output_type": "stream",
     "text": [
      "This album is Amazing!\n"
     ]
    }
   ],
   "source": [
    "# Write your code below and press Shift+Enter to execute\n",
    "rating = 8.5\n",
    "if rating > 8.0:\n",
    "    print('This album is Amazing!')\n",
    "else:\n",
    "    print('this album is ok')"
   ]
  },
  {
   "cell_type": "markdown",
   "metadata": {
    "id": "eIO85U1HIoQR"
   },
   "source": [
    "Double-click __here__ for the solution.\n",
    "\n",
    "<!-- \n",
    "rating = 8.5\n",
    "if rating > 8:\n",
    "    print (\"this album is amazing\")\n",
    "else:\n",
    "    print (\"this album is ok\")\n",
    "-->"
   ]
  },
  {
   "cell_type": "markdown",
   "metadata": {
    "id": "Ickq5nDuIoQR"
   },
   "source": [
    "<hr>"
   ]
  },
  {
   "cell_type": "markdown",
   "metadata": {
    "id": "xlvACVa3IoQS"
   },
   "source": [
    "Write an if statement to determine if an album came out before 1980 or in the years: 1991 or 1993. If the condition is true print out the year the album came out."
   ]
  },
  {
   "cell_type": "code",
   "execution_count": 23,
   "metadata": {
    "id": "w0ys9FArIoQS",
    "outputId": "57c1b839-069f-497a-b05a-d89b4715f6f1"
   },
   "outputs": [
    {
     "name": "stdout",
     "output_type": "stream",
     "text": [
      "the year the album came out\n"
     ]
    }
   ],
   "source": [
    "# Write your code below and press Shift+Enter to execute\n",
    "album_year = 1970\n",
    "\n",
    "if album_year < 1980 or album_year == 1991 or album_year == 1993:\n",
    "    print('the year the album came out')"
   ]
  },
  {
   "cell_type": "markdown",
   "metadata": {
    "id": "W9xtMYLcIoQU"
   },
   "source": [
    "Double-click __here__ for the solution.\n",
    "\n",
    "<!-- \n",
    "album_year = 1979\n",
    "\n",
    "if album_year < 1980 or album_year == 1991 or album_year == 1993:\n",
    "    print (\"this album came out already\")\n",
    "-->"
   ]
  },
  {
   "cell_type": "markdown",
   "metadata": {
    "id": "3qbaPIlLIoQU"
   },
   "source": [
    "<hr>\n",
    "<h2>The last exercise!</h2>\n",
    "<p>Congratulations, you have completed your first lesson and hands-on lab in Python. However, there is one more thing you need to do. The Data Science community encourages sharing work. The best way to share and showcase your work is to share it on GitHub. By sharing your notebook on GitHub you are not only building your reputation with fellow data scientists, but you can also show it off when applying for a job. Even though this was your first piece of work, it is never too early to start building good habits. Please submit all your exercises to Github & let the traces in our LMS, so for me to access your work.\n",
    "<hr>"
   ]
  },
  {
   "cell_type": "markdown",
   "metadata": {
    "id": "xWlHxzXyIoQW"
   },
   "source": [
    "<hr>"
   ]
  },
  {
   "cell_type": "markdown",
   "metadata": {
    "id": "uR6ZtMlKIoQW"
   },
   "source": [
    "<p>Copyright &copy; 2023 RYU HOKYOUNG based on 2018 IBM Developer Skills Network. This notebook and its source code are released under the terms of the <a href=\"https://cognitiveclass.ai/mit-license/\">MIT License</a>.</p>"
   ]
  }
 ],
 "metadata": {
  "colab": {
   "provenance": []
  },
  "kernelspec": {
   "display_name": "Python 3 (ipykernel)",
   "language": "python",
   "name": "python3"
  },
  "language_info": {
   "codemirror_mode": {
    "name": "ipython",
    "version": 3
   },
   "file_extension": ".py",
   "mimetype": "text/x-python",
   "name": "python",
   "nbconvert_exporter": "python",
   "pygments_lexer": "ipython3",
   "version": "3.12.2"
  }
 },
 "nbformat": 4,
 "nbformat_minor": 4
}
